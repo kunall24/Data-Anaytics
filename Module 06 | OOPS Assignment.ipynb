{
  "nbformat": 4,
  "nbformat_minor": 0,
  "metadata": {
    "colab": {
      "provenance": []
    },
    "kernelspec": {
      "name": "python3",
      "display_name": "Python 3"
    },
    "language_info": {
      "name": "python"
    }
  },
  "cells": [
    {
      "cell_type": "markdown",
      "source": [
        "#**Module 06 | OOPS Assignment**"
      ],
      "metadata": {
        "id": "wBXK-H5SASb_"
      }
    },
    {
      "cell_type": "markdown",
      "source": [
        "#**Theoritical Questions and Answers**"
      ],
      "metadata": {
        "id": "1peBg-_oAbTa"
      }
    },
    {
      "cell_type": "markdown",
      "source": [
        "##1. What is Object-Oriented Programming (OOP)?\n",
        "\n",
        "* Object-Oriented Programming (OOP),refers to the way of thinking about and structuring code, specifically by using objects and calsses. It's a approach to programming that focuses on building systems around objects, which encapsulate both data/attributes and methods/functions that operate on that data."
      ],
      "metadata": {
        "id": "TP9yryp-BdDv"
      }
    },
    {
      "cell_type": "markdown",
      "source": [
        "##2. What is a class in OOP?\n",
        "\n",
        "* A class is a blueprint or template for creating objects. It defines the attributes (variables) and behaviors (methods) that the objects created from the class will have.\n",
        "\n"
      ],
      "metadata": {
        "id": "4AgP9XufBhLy"
      }
    },
    {
      "cell_type": "markdown",
      "source": [
        "##3. What is an object in OOP?\n",
        "\n",
        "* An object is an instance of a class. It is a concrete entity based on the class blueprint and can hold data and perform functions defined by its class."
      ],
      "metadata": {
        "id": "jdMhuP56Bo5H"
      }
    },
    {
      "cell_type": "markdown",
      "source": [
        "##4. What is the difference between abstraction and encapsulation?\n",
        "\n",
        "* Abstraction:\n",
        "Abstraction means hiding the complex implementation details and showing only the essential features of an object.\n",
        "\n",
        "* Encapsulation:\n",
        "Encapsulation is the practice of wrapping the data (variables) and methods into a single unit (class) and restricting access using access modifiers like private, protected, or public."
      ],
      "metadata": {
        "id": "YwMfKdsjB3vz"
      }
    },
    {
      "cell_type": "markdown",
      "source": [
        "##5. What are dunder methods in Python?\n",
        "\n",
        "* Dunder methods (short for “double underscore”) are special methods in Python that begin and end with double underscores, like __init__, __str__, __repr__. They are used to implement operator overloading and other class behaviors."
      ],
      "metadata": {
        "id": "lU-jgnCEB96F"
      }
    },
    {
      "cell_type": "markdown",
      "source": [
        "##6. Explain the concept of inheritance in OOP.\n",
        "\n",
        "* Inheritance allows a class (child or subclass) to inherit attributes and methods from another class (parent or superclass), promoting code reuse and hierarchical classification."
      ],
      "metadata": {
        "id": "vey4DDfJCBt0"
      }
    },
    {
      "cell_type": "markdown",
      "source": [
        "##7. What is polymorphism in OOP?\n",
        "\n",
        "* Polymorphism means the ability to take many forms. It allows objects of different classes to respond to the same method call in different ways (e.g., method overriding).\n",
        "\n"
      ],
      "metadata": {
        "id": "Eo6Ww6HICFZf"
      }
    },
    {
      "cell_type": "markdown",
      "source": [
        "##8. How is encapsulation achieved in Python?\n",
        "\n",
        "* Encapsulation in Python is achieved by defining class attributes as private using a single or double underscore prefix (e.g., _var or __var)."
      ],
      "metadata": {
        "id": "VM0a1wVLCIl6"
      }
    },
    {
      "cell_type": "markdown",
      "source": [
        "##9. What is a constructor in Python?\n",
        "\n",
        "* A constructor is a special method __init__ in Python that is automatically called when a new object is created. It initializes the object’s attributes.\n",
        "\n"
      ],
      "metadata": {
        "id": "sspquKHtCOFf"
      }
    },
    {
      "cell_type": "markdown",
      "source": [
        "##10. What are class and static methods in Python?\n",
        "\n",
        "* Class Method:\n",
        "A class method is defined using @classmethod and takes cls as its first parameter. It can modify the class state.\n",
        "\n",
        "* Static Method:\n",
        "A static method is defined using @staticmethod and does not take self or cls as its first argument. It behaves like a regular function but resides inside a class."
      ],
      "metadata": {
        "id": "CDn36_aMCRmg"
      }
    },
    {
      "cell_type": "markdown",
      "source": [
        "##11. What is method overloading in Python?\n",
        "\n",
        "* Python does not support traditional method overloading. Instead, it can be simulated using default arguments or variable-length arguments to handle multiple method signatures."
      ],
      "metadata": {
        "id": "AWaWMw_-CWjJ"
      }
    },
    {
      "cell_type": "markdown",
      "source": [
        "##12. What is method overriding in OOP?\n",
        "\n",
        "* Method overriding is when a subclass provides a specific implementation of a method already defined in its superclass.\n",
        "\n"
      ],
      "metadata": {
        "id": "Xv44QIrICZz_"
      }
    },
    {
      "cell_type": "markdown",
      "source": [
        "##13. What is a property decorator in Python?\n",
        "\n",
        "* The @property decorator in Python is used to define a method as a property so it can be accessed like an attribute while allowing control over getting, setting, and deleting."
      ],
      "metadata": {
        "id": "HlHT2uE5Ce5h"
      }
    },
    {
      "cell_type": "markdown",
      "source": [
        "##14. Why is polymorphism important in OOP?\n",
        "\n",
        "* Polymorphism is important because it allows for flexible and extensible code. It enables one interface to be used for different underlying data types, improving code readability and reusability."
      ],
      "metadata": {
        "id": "I0JM57jkCgGo"
      }
    },
    {
      "cell_type": "markdown",
      "source": [
        "##15. What is an abstract class in Python?\n",
        "\n",
        "* An abstract class in Python is a class that cannot be instantiated and usually contains one or more abstract methods. It is defined using the abc module and @abstractmethod decorator."
      ],
      "metadata": {
        "id": "WXco-ucECi5x"
      }
    },
    {
      "cell_type": "markdown",
      "source": [
        "##16. What are the advantages of OOP?\n",
        "\n",
        "* Code reuse through inheritance\n",
        "\n",
        "* Data hiding through encapsulation\n",
        "\n",
        "* Flexibility through polymorphism\n",
        "\n",
        "* Clear modular structure\n",
        "\n",
        "* Easier maintenance and scalability"
      ],
      "metadata": {
        "id": "vGnTdJVnCmnj"
      }
    },
    {
      "cell_type": "markdown",
      "source": [
        "##17. What is the difference between a class variable and an instance variable?\n",
        "\n",
        "* Class Variable:\n",
        "Shared across all instances of the class.\n",
        "\n",
        "* Instance Variable:\n",
        "Specific to each instance and defined using self.\n",
        "\n"
      ],
      "metadata": {
        "id": "U989gAGcCs42"
      }
    },
    {
      "cell_type": "markdown",
      "source": [
        "##18. What is multiple inheritance in Python?\n",
        "\n",
        "* Multiple inheritance is a feature where a class can inherit from more than one parent class, allowing the child class to access attributes and methods from multiple sources."
      ],
      "metadata": {
        "id": "0mY0vmBwCwSz"
      }
    },
    {
      "cell_type": "markdown",
      "source": [
        "##19. Explain the purpose of __str__ and __repr__ methods in Python.\n",
        "\n",
        "* __str__ returns a readable string representation for end-users.\n",
        "\n",
        "* __repr__ returns an official string representation for developers, ideally one that can recreate the object."
      ],
      "metadata": {
        "id": "skmR53S9C1Ic"
      }
    },
    {
      "cell_type": "markdown",
      "source": [
        "##20. What is the significance of the super() function in Python?\n",
        "\n",
        "* The super() function is used to call a method from the parent class, allowing access to inherited methods without directly referring to the parent class."
      ],
      "metadata": {
        "id": "4jEJl1PRC6RW"
      }
    },
    {
      "cell_type": "markdown",
      "source": [
        "##21. What is the significance of the __del__ method in Python?\n",
        "\n",
        "* The __del__ method is a destructor in Python, automatically called when an object is about to be destroyed. It is used to release resources."
      ],
      "metadata": {
        "id": "mPFQ1zyWC9gp"
      }
    },
    {
      "cell_type": "markdown",
      "source": [
        "##22. What is the difference between @staticmethod and @classmethod in Python?\n",
        "\n",
        "* @staticmethod: Does not take self or cls, works like a regular function inside a class.\n",
        "\n",
        "* @classmethod: Takes cls and can modify class state.\n",
        "\n"
      ],
      "metadata": {
        "id": "gQwvueoqDBNY"
      }
    },
    {
      "cell_type": "markdown",
      "source": [
        "##23. How does polymorphism work in Python with inheritance?\n",
        "\n",
        "* In Python, polymorphism with inheritance allows derived classes to override base class methods. When such methods are called on derived objects, the overridden versions are executed."
      ],
      "metadata": {
        "id": "ZkM5jYbNDFGX"
      }
    },
    {
      "cell_type": "markdown",
      "source": [
        "##24. What is method chaining in Python OOP?\n",
        "\n",
        "* Method chaining allows multiple methods to be called on the same object in a single line by returning self at the end of each method."
      ],
      "metadata": {
        "id": "2ZtWX5y4DKLE"
      }
    },
    {
      "cell_type": "markdown",
      "source": [
        "##25. What is the purpose of the __call__ method in Python?\n",
        "\n",
        "* The __call__ method makes an instance callable like a function. When defined, an object can be used with parentheses to execute the __call__ logic."
      ],
      "metadata": {
        "id": "4PcP4rZjDMuq"
      }
    },
    {
      "cell_type": "markdown",
      "source": [
        "#**Practical Questions and Answers**"
      ],
      "metadata": {
        "id": "OsgzlUCXDYPU"
      }
    },
    {
      "cell_type": "markdown",
      "source": [
        "##1. Create a parent class Animal with a method speak() that prints a generic message. Create a child class Dog that overrides the speak() method to print \"Bark!\"."
      ],
      "metadata": {
        "id": "3FYny8F2Dc8W"
      }
    },
    {
      "cell_type": "code",
      "source": [
        "class Animal:\n",
        "    def speak(self):\n",
        "        print(\"Animal speaks\")\n",
        "\n",
        "class Dog(Animal):\n",
        "    def speak(self):\n",
        "        print(\"Bark\")\n",
        "\n",
        "dog = Dog()\n",
        "dog.speak()"
      ],
      "metadata": {
        "colab": {
          "base_uri": "https://localhost:8080/"
        },
        "id": "lNgJsoCUENHK",
        "outputId": "60e531db-411b-4d87-8b38-72bd450851f7"
      },
      "execution_count": 19,
      "outputs": [
        {
          "output_type": "stream",
          "name": "stdout",
          "text": [
            "Bark\n"
          ]
        }
      ]
    },
    {
      "cell_type": "markdown",
      "source": [
        "##2. Write a program to create an abstract class Shape with a method area(). Derive classes Circle and Rectangle from it and implement the area() method in both."
      ],
      "metadata": {
        "id": "rjyvOgvsDieR"
      }
    },
    {
      "cell_type": "code",
      "source": [
        "from abc import ABC\n",
        "\n",
        "class Shape: #abstract class\n",
        "    @abstractmethod\n",
        "    def area(self): #function common for both Circle and Rectangle\n",
        "        pass\n",
        "\n",
        "class Circle(Shape):\n",
        "    def __init__(self, radius):\n",
        "        self.radius = radius\n",
        "\n",
        "    def area(self): #function from abstract class\n",
        "        return 3.14 * self.radius ** 2\n",
        "\n",
        "class Rectangle(Shape):\n",
        "    def __init__(self, width, height):\n",
        "        self.width = width\n",
        "        self.height = height\n",
        "\n",
        "    def area(self): #function from abstract class\n",
        "        return self.width * self.height"
      ],
      "metadata": {
        "id": "p-7L_VG-FWAh"
      },
      "execution_count": 21,
      "outputs": []
    },
    {
      "cell_type": "code",
      "source": [
        "cir = Circle(5)\n",
        "cir.area()"
      ],
      "metadata": {
        "colab": {
          "base_uri": "https://localhost:8080/"
        },
        "id": "6-R9avkgKLgd",
        "outputId": "959af4f2-cc60-4019-f5c3-b799446a81aa"
      },
      "execution_count": 25,
      "outputs": [
        {
          "output_type": "execute_result",
          "data": {
            "text/plain": [
              "78.5"
            ]
          },
          "metadata": {},
          "execution_count": 25
        }
      ]
    },
    {
      "cell_type": "code",
      "source": [
        "rec = Rectangle(5,10)\n",
        "rec.area()"
      ],
      "metadata": {
        "colab": {
          "base_uri": "https://localhost:8080/"
        },
        "id": "W_zNvh8xKj91",
        "outputId": "6db137b3-8768-4d56-8817-7c2e8cac6cbd"
      },
      "execution_count": 26,
      "outputs": [
        {
          "output_type": "execute_result",
          "data": {
            "text/plain": [
              "50"
            ]
          },
          "metadata": {},
          "execution_count": 26
        }
      ]
    },
    {
      "cell_type": "markdown",
      "source": [
        "##3.  Implement a multi-level inheritance scenario where a class Vehicle has an attribute type. Derive a class Car and further derive a class ElectricCar that adds a battery attribute."
      ],
      "metadata": {
        "id": "w2Q4Uze6DmVK"
      }
    },
    {
      "cell_type": "code",
      "source": [
        "class Vehicle: #Base Class\n",
        "    def __init__(self, vehicle_type):\n",
        "        self.type = vehicle_type\n",
        "\n",
        "class Car(Vehicle): #Level 1 inheritance\n",
        "    def __init__(self, vehicle_type, brand):\n",
        "        super().__init__(vehicle_type)\n",
        "        self.brand = brand\n",
        "\n",
        "class ElectricCar(Car): #Level 2 inheritance\n",
        "    def __init__(self, vehicle_type, brand, battery):\n",
        "        super().__init__(vehicle_type, brand)\n",
        "        self.battery = battery"
      ],
      "metadata": {
        "id": "_tba86bbFldh"
      },
      "execution_count": null,
      "outputs": []
    },
    {
      "cell_type": "code",
      "source": [
        "ev = ElectricCar(\"EV\",\"Mahindra\",\"200\")\n",
        "print(\"This car is\", ev.type, \"of Brand\", ev.brand, \"of battery capacity\", ev.battery)"
      ],
      "metadata": {
        "colab": {
          "base_uri": "https://localhost:8080/"
        },
        "id": "6uLtuzWeMoOI",
        "outputId": "650b7fb6-4beb-41a7-8279-6ad5e6206afb"
      },
      "execution_count": 30,
      "outputs": [
        {
          "output_type": "stream",
          "name": "stdout",
          "text": [
            "This car is EV of Brand Mahindra of battery capacity 200\n"
          ]
        }
      ]
    },
    {
      "cell_type": "markdown",
      "source": [
        "##4.Demonstrate polymorphism by creating a base class Bird with a method fly(). Create two derived classes Sparrow and Penguin that override the fly() method."
      ],
      "metadata": {
        "id": "6jY2Ae6wDphm"
      }
    },
    {
      "cell_type": "code",
      "source": [
        "class Bird: #Base Class\n",
        "    def fly(self):\n",
        "        print(\"Some birds can fly\")\n",
        "\n",
        "class Sparrow(Bird):\n",
        "    def fly(self): #Same Method as base\n",
        "        print(\"Sparrow flies high\")\n",
        "\n",
        "class Penguin(Bird):\n",
        "    def fly(self): #Same Method as base\n",
        "        print(\"Penguin cannot fly\")\n",
        "\n",
        "birds = [Sparrow(), Penguin(), Bird()] #same method taking different form when called in different classes of same inherated base class\n",
        "for i in birds:\n",
        "    i.fly()"
      ],
      "metadata": {
        "colab": {
          "base_uri": "https://localhost:8080/"
        },
        "id": "MO0lk3BtFt1X",
        "outputId": "098e3f23-23d1-4242-b96f-26f190f06ecf"
      },
      "execution_count": 41,
      "outputs": [
        {
          "output_type": "stream",
          "name": "stdout",
          "text": [
            "Sparrow flies high\n",
            "Penguin cannot fly\n",
            "Some birds can fly\n"
          ]
        }
      ]
    },
    {
      "cell_type": "markdown",
      "source": [
        "##5. Write a program to demonstrate encapsulation by creating a class BankAccount with private attributes balance and methods to deposit, withdraw, and check balance."
      ],
      "metadata": {
        "id": "o80R7LBTDraL"
      }
    },
    {
      "cell_type": "code",
      "source": [
        "class BankAccount:\n",
        "    def __init__(self, balance=0): #default value of variable balance is 0 but anything cab be given.\n",
        "        self.__balance = balance\n",
        "\n",
        "    def deposit(self, amount):\n",
        "        self.__balance += amount\n",
        "\n",
        "    def withdraw(self, amount):\n",
        "        if amount <= self.__balance:\n",
        "            self.__balance -= amount\n",
        "\n",
        "    def get_balance(self):\n",
        "        return self.__balance"
      ],
      "metadata": {
        "id": "VIPCf6HsFvlV"
      },
      "execution_count": 36,
      "outputs": []
    },
    {
      "cell_type": "code",
      "source": [
        "acc = BankAccount(500)\n",
        "acc.deposit(1000)\n",
        "acc.withdraw(200)\n",
        "print(\"Balance:\", acc.get_balance())"
      ],
      "metadata": {
        "colab": {
          "base_uri": "https://localhost:8080/"
        },
        "id": "kRCQKCPmQSEH",
        "outputId": "0c54aac9-4837-4ad9-a7a8-339feaae8229"
      },
      "execution_count": 37,
      "outputs": [
        {
          "output_type": "stream",
          "name": "stdout",
          "text": [
            "Balance: 1300\n"
          ]
        }
      ]
    },
    {
      "cell_type": "markdown",
      "source": [
        "##6. Demonstrate runtime polymorphism using a method play() in a base class Instrument. Derive classes Guitar and Piano that implement their own version of play()."
      ],
      "metadata": {
        "id": "Vt8pg3jMDw70"
      }
    },
    {
      "cell_type": "code",
      "source": [
        "class Instrument: #Base Class\n",
        "    def play(self):\n",
        "        print(\"Instrument is playing\")\n",
        "\n",
        "class Guitar(Instrument):\n",
        "    def play(self): #Same Method as base\n",
        "        print(\"Playing the guitar\")\n",
        "\n",
        "class Piano(Instrument):\n",
        "    def play(self): #Same Method as base\n",
        "        print(\"Playing the piano\")\n",
        "\n",
        "instruments = [Guitar(), Piano(), Instrument()] #same method taking different form when called in different classes of same inherated base class\n",
        "for j in instruments:\n",
        "    j.play()"
      ],
      "metadata": {
        "colab": {
          "base_uri": "https://localhost:8080/"
        },
        "id": "LyCmQDCvFytF",
        "outputId": "d49ee10e-38aa-4992-ffce-55171bca9a97"
      },
      "execution_count": 40,
      "outputs": [
        {
          "output_type": "stream",
          "name": "stdout",
          "text": [
            "Playing the guitar\n",
            "Playing the piano\n",
            "Instrument is playing\n"
          ]
        }
      ]
    },
    {
      "cell_type": "markdown",
      "source": [
        "##7. Create a class MathOperations with a class method add_numbers() to add two numbers and a static method subtract_numbers() to subtract two numbers."
      ],
      "metadata": {
        "id": "C3DwQHhpDy8b"
      }
    },
    {
      "cell_type": "code",
      "source": [
        "class MathOperations:\n",
        "    @classmethod\n",
        "    def add_numbers(cls, a, b):\n",
        "        return a + b\n",
        "\n",
        "    @staticmethod\n",
        "    def subtract_numbers(a, b):\n",
        "        return a - b"
      ],
      "metadata": {
        "id": "jweRa_7GF37b"
      },
      "execution_count": 45,
      "outputs": []
    },
    {
      "cell_type": "code",
      "source": [
        "print(\"Addition:\", MathOperations.add_numbers(5, 3)) #no object creation is required, calling directly with \"class name.method name()\"\n",
        "print(\"Subtraction:\", MathOperations.subtract_numbers(10, 4)) #no object creation is required, calling directly with \"class name.method name()\""
      ],
      "metadata": {
        "colab": {
          "base_uri": "https://localhost:8080/"
        },
        "id": "Q8hBDievRrWu",
        "outputId": "614c3e75-444d-48f7-b6e6-0876749b437d"
      },
      "execution_count": 46,
      "outputs": [
        {
          "output_type": "stream",
          "name": "stdout",
          "text": [
            "Addition: 8\n",
            "Subtraction: 6\n"
          ]
        }
      ]
    },
    {
      "cell_type": "markdown",
      "source": [
        "##8. Implement a class Person with a class method to count the total number of persons created."
      ],
      "metadata": {
        "id": "ct-0XFwrD1hQ"
      }
    },
    {
      "cell_type": "code",
      "source": [
        "class Person:\n",
        "    count = 0\n",
        "\n",
        "    def __init__(self):\n",
        "        Person.count += 1\n",
        "\n",
        "    @classmethod\n",
        "    def total_persons(cls):\n",
        "        return cls.count"
      ],
      "metadata": {
        "id": "LGzy0aQMF7Bo"
      },
      "execution_count": 49,
      "outputs": []
    },
    {
      "cell_type": "code",
      "source": [
        "p1 = Person()\n",
        "p2 = Person()\n",
        "p3 = Person()\n",
        "p4 = Person()\n",
        "print(\"Total persons:\", Person.total_persons()) #no object creation is required, calling directly with \"class name.method name()\""
      ],
      "metadata": {
        "colab": {
          "base_uri": "https://localhost:8080/"
        },
        "id": "pxxO7szkTN8o",
        "outputId": "eba9ac87-542d-40ab-a758-c9111d40982a"
      },
      "execution_count": 50,
      "outputs": [
        {
          "output_type": "stream",
          "name": "stdout",
          "text": [
            "Total persons: 4\n"
          ]
        }
      ]
    },
    {
      "cell_type": "markdown",
      "source": [
        "##9. Write a class Fraction with attributes numerator and denominator. Override the str method to display the fraction as \"numerator/denominator\"."
      ],
      "metadata": {
        "id": "Zetq8WSxD5pU"
      }
    },
    {
      "cell_type": "code",
      "source": [
        "class Fraction:\n",
        "    def __init__(self, numerator, denominator):\n",
        "        self.numerator = numerator\n",
        "        self.denominator = denominator\n",
        "\n",
        "    def __str__(self):\n",
        "        return f\"{self.numerator}/{self.denominator}\""
      ],
      "metadata": {
        "id": "tFJtV9bVF8h9"
      },
      "execution_count": null,
      "outputs": []
    },
    {
      "cell_type": "code",
      "source": [
        "f = Fraction(4, 2)\n",
        "print(f)"
      ],
      "metadata": {
        "colab": {
          "base_uri": "https://localhost:8080/"
        },
        "id": "TgNhYWYdT6M9",
        "outputId": "92445724-5d9e-4943-f138-f67abd901e92"
      },
      "execution_count": 52,
      "outputs": [
        {
          "output_type": "stream",
          "name": "stdout",
          "text": [
            "4/2\n"
          ]
        }
      ]
    },
    {
      "cell_type": "markdown",
      "source": [
        "##10. Demonstrate operator overloading by creating a class Vector and overriding the add method to add two vectors."
      ],
      "metadata": {
        "id": "_16lLLvkD76Y"
      }
    },
    {
      "cell_type": "code",
      "source": [
        "class Vector:\n",
        "    def __init__(self, x, y):\n",
        "        self.x = x\n",
        "        self.y = y\n",
        "\n",
        "    def __add__(self, other):\n",
        "        return Vector(self.x + other.x, self.y + other.y)\n",
        "\n",
        "    def __str__(self):\n",
        "        return f\"Vector({self.x}, {self.y})\""
      ],
      "metadata": {
        "id": "1GcxvqhLF_ej"
      },
      "execution_count": null,
      "outputs": []
    },
    {
      "cell_type": "code",
      "source": [
        "v1 = Vector(2, 3)\n",
        "v2 = Vector(4, 1)\n",
        "v3 = v1 + v2\n",
        "print(v3)"
      ],
      "metadata": {
        "colab": {
          "base_uri": "https://localhost:8080/"
        },
        "id": "Ygg1OPcIUaHr",
        "outputId": "6b298515-dde6-4801-9760-d81e0c992c12"
      },
      "execution_count": 53,
      "outputs": [
        {
          "output_type": "stream",
          "name": "stdout",
          "text": [
            "Vector(6, 4)\n"
          ]
        }
      ]
    },
    {
      "cell_type": "markdown",
      "source": [
        "##11. Create a class Person with attributes name and age. Add a method greet() that prints \"Hello, my name is {name} and I am {age} years old.\"\n",
        "\n"
      ],
      "metadata": {
        "id": "oo7LFbtcD9zh"
      }
    },
    {
      "cell_type": "code",
      "source": [
        "class Person:\n",
        "    def __init__(self, name, age): #constructor method\n",
        "        self.name = name\n",
        "        self.age = age\n",
        "\n",
        "    def greet(self):\n",
        "        print(f\"Hello, my name is {self.name} and I am {self.age} years old.\")"
      ],
      "metadata": {
        "id": "poAf54YlGDND"
      },
      "execution_count": 55,
      "outputs": []
    },
    {
      "cell_type": "code",
      "source": [
        "k = Person(\"Kunal Rao\", 24) #Object of the class Person with attributes name and age.\n",
        "k.greet()"
      ],
      "metadata": {
        "colab": {
          "base_uri": "https://localhost:8080/"
        },
        "id": "GW2IXb7UW4jy",
        "outputId": "a11a3380-7b68-4f0e-f60b-83035c41288d"
      },
      "execution_count": 60,
      "outputs": [
        {
          "output_type": "stream",
          "name": "stdout",
          "text": [
            "Hello, my name is Kunal Rao and I am 24 years old.\n"
          ]
        }
      ]
    },
    {
      "cell_type": "markdown",
      "source": [
        "##12. Implement a class Student with attributes name and grades. Create a method average_grade() to compute the average of the grades."
      ],
      "metadata": {
        "id": "bBI-wzi6D_xx"
      }
    },
    {
      "cell_type": "code",
      "source": [
        "class Student:\n",
        "    def __init__(self, name, grades): #constructor taking list of grade and name of student.\n",
        "        self.name = name\n",
        "        self.grades = grades\n",
        "\n",
        "    def average_grade(self): #method: here the grade will be calculated.\n",
        "        return sum(self.grades) / len(self.grades)"
      ],
      "metadata": {
        "id": "GXjIjqT_GDqw"
      },
      "execution_count": null,
      "outputs": []
    },
    {
      "cell_type": "code",
      "source": [
        "s = Student(\"John\", [85, 90, 95, 83, 78])\n",
        "print(\"Average Grade:\", s.average_grade())"
      ],
      "metadata": {
        "colab": {
          "base_uri": "https://localhost:8080/"
        },
        "id": "rWQcWZ2KXS4I",
        "outputId": "21ce3b6f-9655-45ca-d44c-df6acc088d5b"
      },
      "execution_count": 61,
      "outputs": [
        {
          "output_type": "stream",
          "name": "stdout",
          "text": [
            "Average Grade: 86.2\n"
          ]
        }
      ]
    },
    {
      "cell_type": "markdown",
      "source": [
        "##13. Create a class Rectangle with methods set_dimensions() to set the dimensions and area() to calculate the area.\n",
        "\n"
      ],
      "metadata": {
        "id": "WDt3lfHPEBok"
      }
    },
    {
      "cell_type": "code",
      "source": [
        "class Rectangle:\n",
        "    def set_dimensions(self, width, height):\n",
        "        self.width = width\n",
        "        self.height = height\n",
        "\n",
        "    def area(self): #method: here the area of rectangle will be calculated.\n",
        "        return self.width * self.height"
      ],
      "metadata": {
        "id": "4XWhZZWrGEOs"
      },
      "execution_count": null,
      "outputs": []
    },
    {
      "cell_type": "code",
      "source": [
        "rec = Rectangle(10,25)\n",
        "rec.area()\n",
        "print(\"Area of tectangle is:\", rec.area())"
      ],
      "metadata": {
        "colab": {
          "base_uri": "https://localhost:8080/"
        },
        "id": "n0hj598ZYSA0",
        "outputId": "08757e2c-6c2f-4312-fbc6-3f4c7be66056"
      },
      "execution_count": 63,
      "outputs": [
        {
          "output_type": "stream",
          "name": "stdout",
          "text": [
            "Area of tectangle is: 250\n"
          ]
        }
      ]
    },
    {
      "cell_type": "markdown",
      "source": [
        "##14. Create a class Employee with a method calculate_salary() that computes the salary based on hours worked and hourly rate. Create a derived class Manager that adds a bonus to the salary."
      ],
      "metadata": {
        "id": "JuTZ2QFQEDhn"
      }
    },
    {
      "cell_type": "code",
      "source": [
        "class Employee:\n",
        "    def calculate_salary(self, hours_worked, hourly_rate): #salary calculation\n",
        "        return hours_worked * hourly_rate\n",
        "\n",
        "class Manager(Employee):\n",
        "    def calculate_salary(self, hours_worked, hourly_rate, bonus=0) #default value of bonus is 0 but if given any value it will be added in salary\n",
        "        return super().calculate_salary(hours_worked, hourly_rate) + bonus"
      ],
      "metadata": {
        "id": "3Oa3bsEdGEq0"
      },
      "execution_count": null,
      "outputs": []
    },
    {
      "cell_type": "code",
      "source": [
        "sal= Manager()\n",
        "print(\"salary before Bonus is: \", sal.calculate_salary(9.5,30))\n",
        "\n",
        "sal2= Manager()\n",
        "print(\"Salary after Bonus is: \", sal2.calculate_salary(9.5,30,500))"
      ],
      "metadata": {
        "colab": {
          "base_uri": "https://localhost:8080/"
        },
        "id": "_zZtgtYWZPAd",
        "outputId": "d53a44d9-b822-4c5f-8c63-d3d7e1e0090e"
      },
      "execution_count": 81,
      "outputs": [
        {
          "output_type": "stream",
          "name": "stdout",
          "text": [
            "salary before Bonus is:  285.0\n",
            "Salary after Bonus is:  785.0\n"
          ]
        }
      ]
    },
    {
      "cell_type": "markdown",
      "source": [
        "##15. Create a class Product with attributes name, price, and quantity. Implement a method total_price() that calculates the total price of the product."
      ],
      "metadata": {
        "id": "YszklXBAEFTL"
      }
    },
    {
      "cell_type": "code",
      "source": [
        "class Product:\n",
        "    def __init__(self, name, price, quantity):\n",
        "        self.name = name\n",
        "        self.price = price\n",
        "        self.quantity = quantity\n",
        "\n",
        "    def total_price(self):\n",
        "        return self.price * self.quantity"
      ],
      "metadata": {
        "id": "rYuyTxw_GFZb"
      },
      "execution_count": null,
      "outputs": []
    },
    {
      "cell_type": "code",
      "source": [
        "pro=Product(\"Kitkat\", 20, 10)\n",
        "pro.total_price()"
      ],
      "metadata": {
        "colab": {
          "base_uri": "https://localhost:8080/"
        },
        "id": "q-ZhRuf1a3VD",
        "outputId": "fd5cbfa3-a0e4-4085-9985-55f115bea07a"
      },
      "execution_count": 85,
      "outputs": [
        {
          "output_type": "execute_result",
          "data": {
            "text/plain": [
              "200"
            ]
          },
          "metadata": {},
          "execution_count": 85
        }
      ]
    },
    {
      "cell_type": "markdown",
      "source": [
        "##16. Create a class Animal with an abstract method sound(). Create two derived classes Cow and Sheep that implement the sound() method."
      ],
      "metadata": {
        "id": "6oxhlSXUEHlh"
      }
    },
    {
      "cell_type": "code",
      "source": [
        "from abc import ABC, abstractmethod\n",
        "\n",
        "class Animal(ABC):\n",
        "    @abstractmethod\n",
        "    def sound(self): #common menthod hence abstration\n",
        "        pass\n",
        "\n",
        "class Cow(Animal):\n",
        "    def sound(self):\n",
        "        print(\"Moo\")\n",
        "\n",
        "class Sheep(Animal):\n",
        "    def sound(self):\n",
        "        print(\"Baa\")"
      ],
      "metadata": {
        "id": "d7r605WSGFwG"
      },
      "execution_count": null,
      "outputs": []
    },
    {
      "cell_type": "code",
      "source": [
        "c = Cow()\n",
        "s = Sheep()\n",
        "c.sound()\n",
        "s.sound()"
      ],
      "metadata": {
        "colab": {
          "base_uri": "https://localhost:8080/"
        },
        "id": "Ohmv5oeNbWG2",
        "outputId": "8cef6e95-30fc-4fcf-8315-35a495099547"
      },
      "execution_count": 90,
      "outputs": [
        {
          "output_type": "stream",
          "name": "stdout",
          "text": [
            "Moo\n",
            "Baa\n"
          ]
        }
      ]
    },
    {
      "cell_type": "markdown",
      "source": [
        "##17. Create a class Book with attributes title, author, and year_published. Add a method get_book_info() that returns a formatted string with the book's details.\n",
        "\n"
      ],
      "metadata": {
        "id": "isaefwrKEJZ7"
      }
    },
    {
      "cell_type": "code",
      "source": [
        "class Book:\n",
        "    def __init__(self, title, author, year_published):\n",
        "        self.title = title\n",
        "        self.author = author\n",
        "        self.year_published = year_published\n",
        "\n",
        "    def get_book_info(self):\n",
        "        return f\"{self.title} by {self.author}, published in {self.year_published}\""
      ],
      "metadata": {
        "id": "-tbfpD6tGGQK"
      },
      "execution_count": null,
      "outputs": []
    },
    {
      "cell_type": "code",
      "source": [
        "book = Book(\"Atomic Habits\", \"Richard Finmen\", \"2017\")\n",
        "book.get_book_info()"
      ],
      "metadata": {
        "colab": {
          "base_uri": "https://localhost:8080/",
          "height": 35
        },
        "id": "gNhbycYacI_p",
        "outputId": "14ccb2e7-f99f-4e2e-831f-696dcf5e4808"
      },
      "execution_count": 92,
      "outputs": [
        {
          "output_type": "execute_result",
          "data": {
            "text/plain": [
              "'Atomic Habits by Richard Finmen, published in 2017'"
            ],
            "application/vnd.google.colaboratory.intrinsic+json": {
              "type": "string"
            }
          },
          "metadata": {},
          "execution_count": 92
        }
      ]
    },
    {
      "cell_type": "markdown",
      "source": [
        "##18. Create a class House with attributes address and price. Create a derived class Mansion that adds an attribute number_of_rooms."
      ],
      "metadata": {
        "id": "BNyEIpU6ELMB"
      }
    },
    {
      "cell_type": "code",
      "source": [
        "class House:\n",
        "    def __init__(self, address, price):\n",
        "        self.address = address\n",
        "        self.price = price\n",
        "\n",
        "class Mansion(House):\n",
        "    def __init__(self, address, price, number_of_rooms):\n",
        "        super().__init__(address, price) #accessing attributes from super/base/parent class\n",
        "        self.number_of_rooms = number_of_rooms"
      ],
      "metadata": {
        "id": "szMCcjimGGvo"
      },
      "execution_count": null,
      "outputs": []
    },
    {
      "cell_type": "code",
      "source": [
        "man = Mansion(\"Hitech City-Hyd\", \"1.2 Cr\", 5)\n",
        "print(f\"The adress of the house is\", man.address, \"and there are\", man.number_of_rooms, \"rooms and its value is\", man.price)"
      ],
      "metadata": {
        "colab": {
          "base_uri": "https://localhost:8080/"
        },
        "id": "5CP0N3iocqcz",
        "outputId": "fa5e821f-ad4f-4521-b947-814b31d12f59"
      },
      "execution_count": 97,
      "outputs": [
        {
          "output_type": "stream",
          "name": "stdout",
          "text": [
            "The adress of the house is Hitech City-Hyd and there are 5 rooms and its value is 1.2 Cr\n"
          ]
        }
      ]
    }
  ]
}