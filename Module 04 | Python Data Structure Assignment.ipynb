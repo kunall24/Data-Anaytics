{
  "nbformat": 4,
  "nbformat_minor": 0,
  "metadata": {
    "colab": {
      "provenance": []
    },
    "kernelspec": {
      "name": "python3",
      "display_name": "Python 3"
    },
    "language_info": {
      "name": "python"
    }
  },
  "cells": [
    {
      "cell_type": "markdown",
      "source": [
        "#**Module 04 | Python - Data Structure Assignment**"
      ],
      "metadata": {
        "id": "ipYk6ATjyyp9"
      }
    },
    {
      "cell_type": "markdown",
      "source": [
        "#**Theoritical Questions and Answers**"
      ],
      "metadata": {
        "id": "oCOymrwTpf0q"
      }
    },
    {
      "cell_type": "markdown",
      "source": [
        "##1. What are data structures, and why are they important?  \n",
        "* Data structures are ways to organize and store data in memory of a computer. Data structure determine how quickly and effectively we can access and manipulate data in programs.\n",
        "\n",
        "##2. Explain the difference between mutable and immutable data types with examples.  \n",
        "* Mutable data types can be changed after they are created, like lists. Immutable types cannot be changed once created, such as tuples. For example, you can add or remove items from a list since they are mutable, but same cannot done in a tuple after it's created because it is immutable.\n",
        "\n",
        "##3. What are the main differences between lists and tuples in Python?  \n",
        "* Lists are mutable, meaning you can change their elements, while tuples are immutable, meaning once created, their elements cannot be changed. Lists use square brackets `[ ]`, and tuples use parentheses `( )`.\n",
        "\n",
        "##4. Describe how dictionaries store data.  \n",
        "* Dictionaries in Python store data in key and value pairs. Each key is unique. and it's associated with a value. However, the keys in any dictionary must be immutable. Meaning that data types like strings, numbers, and tuples can be used as keys\n",
        "\n",
        "##5. Why might you use a set instead of a list in Python?  \n",
        "* Sets are used when you want to store unique elements and don't care about their order. They automatically remove duplicates, which can be useful for tasks like finding and storing unique data.\n",
        "\n",
        "##6. What is a string in Python, and how is it different from a list?  \n",
        "* A string is a sequence of characters enclosed in quotes. It is immutable, meaning it can't be changed. A list is a collection of items that can include numbers, strings, etc., and it is mutable, so you can change its elements.\n",
        "\n",
        "##7. How do tuples ensure data integrity in Python?  \n",
        "* Tuples are immutable, so once they are created, their values cannot be changed. This ensures that the data remains safe and unmodified, making them useful for storing constant or protected data.\n",
        "\n",
        "##8. What is a hash table, and how does it relate to dictionaries in Python?  \n",
        "* A hash table is a data structure that stores data using key value pairs and uses a hash function to find the index of the key. Python dictionaries are built using hash tables, which is why looking up values using keys is very fast.\n",
        "\n",
        "##9. Can lists contain different data types in Python?  \n",
        "* Yes, Python lists can hold elements of different data types. For example, a list can have an integer, a string, a float, complex no. and even another list.\n",
        "\n",
        "##10. Explain why strings are immutable in Python.  \n",
        "* Strings are immutable to ensure they cannot be changed after creation. This helps keep the data safe and also makes Python faster and more memory efficient when handling strings.\n",
        "\n",
        "##11. What advantages do dictionaries offer over lists for certain tasks?  \n",
        "* Dictionaries are useful when it is needed to look up data based on a unique identifier, like a user ID or product code. Dictionaries allow fast access to values using keys, which is much quicker than searching through a list.\n",
        "\n",
        "##12. Describe a scenario where using a tuple would be preferable over a list.  \n",
        "* Tuples are better when you want to make sure data doesn't change. For example, storing PAN card and Aadhar card details of any person so it cannot be changed once regestired.\n",
        "\n",
        "##13. How do sets handle duplicate values in Python?  \n",
        "* Sets automatically remove any duplicate values. If you try to add the same value again, it won’t be added. This is helpful for keeping only unique elements in your data.\n",
        "\n",
        "##14. How does the \"in\" keyword work differently for lists and dictionaries?  \n",
        "* For lists, the `in` keyword checks if a value is present in the list. For dictionaries, it checks if a key or a value exists in the dictionary, example `value in list` looks for values, but `key in dict` looks for keys.\n",
        "\n",
        "##15. Can you modify the elements of a tuple? Explain why or why not.  \n",
        "* No, you cannot modify the elements of a tuple because they are immutable. Once a tuple is created, its values are fixed and cannot be changed.\n",
        "\n",
        "##16. What is a nested dictionary, and give an example of its use case?  \n",
        "* A nested dictionary is a dictionary inside another dictionary. It is useful for storing structured data. For example, you can use it to store information about students where each student has their own dictionary of details like name, age, and marks.\n",
        "\n",
        "##17. Describe the time complexity of accessing elements in a dictionary.  \n",
        "* Accessing elements in a dictionary has an average time complexity of O(1). This means it takes a constant time to get a value using a key, no matter how big the dictionary is.\n",
        "\n",
        "##18. In what situations are lists preferred over dictionaries?  \n",
        "* Lists are preferred when you need to maintain order or when you want to store items without unique keys. They are also useful for simple sequences of items where you access elements by position.\n",
        "\n",
        "##19. Why are dictionaries considered unordered, and how does that affect data retrieval?  \n",
        "* Dictionaries are considered unordered because their items are not stored in any fixed order. This means you can't rely on the order of items when you loop through them, but you can still access values quickly using their keys.\n",
        "\n",
        "##20. Explain the difference between a list and a dictionary in terms of data retrieval.  \n",
        "* Lists retrieve data using index positions like 0, 1, 2, while dictionaries retrieve data using keys. So with lists, you access by order, and with dictionaries, you access by key."
      ],
      "metadata": {
        "id": "UnZWLtLspoUH"
      }
    },
    {
      "cell_type": "markdown",
      "source": [
        "#**Practical Questions and Answers**"
      ],
      "metadata": {
        "id": "gFaCq5nkuSew"
      }
    },
    {
      "cell_type": "markdown",
      "source": [
        "##1. Write a code to create a string with your name and print it."
      ],
      "metadata": {
        "id": "ELC68pcUFxTx"
      }
    },
    {
      "cell_type": "code",
      "source": [
        "name=\"Kunal Rao\"\n",
        "print(name)"
      ],
      "metadata": {
        "colab": {
          "base_uri": "https://localhost:8080/"
        },
        "id": "CzhXxnTLF23g",
        "outputId": "e65b4d10-f4e9-48fe-bac1-c6b68161d218"
      },
      "execution_count": null,
      "outputs": [
        {
          "output_type": "stream",
          "name": "stdout",
          "text": [
            "Kunal Rao\n"
          ]
        }
      ]
    },
    {
      "cell_type": "markdown",
      "source": [
        "##2. Write a code to find the length of the string \"Hello World\"."
      ],
      "metadata": {
        "id": "CazJ-_09GEpy"
      }
    },
    {
      "cell_type": "code",
      "source": [
        "a=\"Hello World\"\n",
        "len(a) #space is also considered while counting length"
      ],
      "metadata": {
        "colab": {
          "base_uri": "https://localhost:8080/"
        },
        "id": "zDBe74oyGIQP",
        "outputId": "c99dc6e5-0c04-4b2b-da73-890fb9dbed25"
      },
      "execution_count": null,
      "outputs": [
        {
          "output_type": "execute_result",
          "data": {
            "text/plain": [
              "11"
            ]
          },
          "metadata": {},
          "execution_count": 3
        }
      ]
    },
    {
      "cell_type": "markdown",
      "source": [
        "##3. Write a code to slice the first 3 characters from the string \"Python Programming\"."
      ],
      "metadata": {
        "id": "Jvf0OdvHGYII"
      }
    },
    {
      "cell_type": "code",
      "source": [
        "p=\"Python Programming\"\n",
        "p[:3]"
      ],
      "metadata": {
        "colab": {
          "base_uri": "https://localhost:8080/",
          "height": 35
        },
        "id": "ez8_MsV1GcQd",
        "outputId": "2882d8a8-e955-4cbf-c4b6-759013de2a36"
      },
      "execution_count": null,
      "outputs": [
        {
          "output_type": "execute_result",
          "data": {
            "text/plain": [
              "'Pyt'"
            ],
            "application/vnd.google.colaboratory.intrinsic+json": {
              "type": "string"
            }
          },
          "metadata": {},
          "execution_count": 7
        }
      ]
    },
    {
      "cell_type": "markdown",
      "source": [
        "##4. Write a code to convert the string \"hello\" to uppercase."
      ],
      "metadata": {
        "id": "Z3YdrP5bGuuv"
      }
    },
    {
      "cell_type": "code",
      "source": [
        "h=\"hello\"\n",
        "h.upper()"
      ],
      "metadata": {
        "colab": {
          "base_uri": "https://localhost:8080/",
          "height": 35
        },
        "id": "GgkmbsUkGxGC",
        "outputId": "f96ccc5b-e503-4835-ba0e-b92a0394aa02"
      },
      "execution_count": null,
      "outputs": [
        {
          "output_type": "execute_result",
          "data": {
            "text/plain": [
              "'HELLO'"
            ],
            "application/vnd.google.colaboratory.intrinsic+json": {
              "type": "string"
            }
          },
          "metadata": {},
          "execution_count": 9
        }
      ]
    },
    {
      "cell_type": "markdown",
      "source": [
        "##5. Write a code to replace the word \"apple\" with \"orange\" in the string \"I like apple\"."
      ],
      "metadata": {
        "id": "zlyGjW0tG8OB"
      }
    },
    {
      "cell_type": "code",
      "source": [
        "i=\"I like apple\"\n",
        "i.replace(\"apple\", \"orange\")"
      ],
      "metadata": {
        "colab": {
          "base_uri": "https://localhost:8080/",
          "height": 35
        },
        "id": "OwF3kJM3HBJI",
        "outputId": "952f632c-b3fb-4fe6-baf5-43edea1692dd"
      },
      "execution_count": null,
      "outputs": [
        {
          "output_type": "execute_result",
          "data": {
            "text/plain": [
              "'I like orange'"
            ],
            "application/vnd.google.colaboratory.intrinsic+json": {
              "type": "string"
            }
          },
          "metadata": {},
          "execution_count": 11
        }
      ]
    },
    {
      "cell_type": "markdown",
      "source": [
        "##6. Write a code to create a list with numbers 1 to 5 and print it."
      ],
      "metadata": {
        "id": "SRx7gIbAHnBn"
      }
    },
    {
      "cell_type": "code",
      "source": [
        "list1=[] #expty list\n",
        "for i in range(1,6):\n",
        "  list1.append(i)\n",
        "print(list1)"
      ],
      "metadata": {
        "colab": {
          "base_uri": "https://localhost:8080/"
        },
        "id": "mz39HoqaHrND",
        "outputId": "5aa64110-9873-4d78-b9ca-288d3e82d176"
      },
      "execution_count": null,
      "outputs": [
        {
          "output_type": "stream",
          "name": "stdout",
          "text": [
            "[1, 2, 3, 4, 5]\n"
          ]
        }
      ]
    },
    {
      "cell_type": "markdown",
      "source": [
        "##7. Write a code to append the number 10 to the list [1, 2, 3, 4]."
      ],
      "metadata": {
        "id": "tvfAmXqzIqOF"
      }
    },
    {
      "cell_type": "code",
      "source": [
        "list2=[1, 2, 3, 4]\n",
        "list2.append(10)\n",
        "print(list2)"
      ],
      "metadata": {
        "colab": {
          "base_uri": "https://localhost:8080/"
        },
        "id": "dM16GsW_Ixvn",
        "outputId": "41fb8419-4a93-46df-8d97-deccb06aab3c"
      },
      "execution_count": null,
      "outputs": [
        {
          "output_type": "stream",
          "name": "stdout",
          "text": [
            "[1, 2, 3, 4, 10]\n"
          ]
        }
      ]
    },
    {
      "cell_type": "markdown",
      "source": [
        "##8. Write a code to remove the number 3 from the list [1, 2, 3, 4, 5]."
      ],
      "metadata": {
        "id": "PaYEfvwSJJpC"
      }
    },
    {
      "cell_type": "code",
      "source": [
        "list3=[1, 2, 3, 4, 5]\n",
        "list3.pop(2) #index of element 3 is 2"
      ],
      "metadata": {
        "colab": {
          "base_uri": "https://localhost:8080/"
        },
        "id": "MY8s_zChJNFF",
        "outputId": "ca693d8b-9bdc-4606-82ac-fbc9f6f3ba04"
      },
      "execution_count": null,
      "outputs": [
        {
          "output_type": "execute_result",
          "data": {
            "text/plain": [
              "3"
            ]
          },
          "metadata": {},
          "execution_count": 27
        }
      ]
    },
    {
      "cell_type": "code",
      "source": [
        "print(list3) #3 popped out"
      ],
      "metadata": {
        "colab": {
          "base_uri": "https://localhost:8080/"
        },
        "id": "2DIWK_wzJRLx",
        "outputId": "1d69c4ba-0500-4238-b33a-d8d329f5fad3"
      },
      "execution_count": null,
      "outputs": [
        {
          "output_type": "stream",
          "name": "stdout",
          "text": [
            "[1, 2, 4, 5]\n"
          ]
        }
      ]
    },
    {
      "cell_type": "markdown",
      "source": [
        "##9. Write a code to access the second element in the list ['a', 'b', 'c', 'd']."
      ],
      "metadata": {
        "id": "x-Stetr1JekW"
      }
    },
    {
      "cell_type": "code",
      "source": [
        "list4=['a', 'b', 'c', 'd']\n",
        "list4[1] #2nd element, 'b', has index 1"
      ],
      "metadata": {
        "colab": {
          "base_uri": "https://localhost:8080/",
          "height": 35
        },
        "id": "r0hppTniJiif",
        "outputId": "bfc06958-0b24-484d-b828-4a13cb45ba4a"
      },
      "execution_count": null,
      "outputs": [
        {
          "output_type": "execute_result",
          "data": {
            "text/plain": [
              "'b'"
            ],
            "application/vnd.google.colaboratory.intrinsic+json": {
              "type": "string"
            }
          },
          "metadata": {},
          "execution_count": 29
        }
      ]
    },
    {
      "cell_type": "markdown",
      "source": [
        "##10. Write a code to reverse the list [10, 20, 30, 40, 50]."
      ],
      "metadata": {
        "id": "vLEbedDsJ0xN"
      }
    },
    {
      "cell_type": "code",
      "source": [
        "list5=[10, 20, 30, 40, 50]\n",
        "list5[::-1]"
      ],
      "metadata": {
        "colab": {
          "base_uri": "https://localhost:8080/"
        },
        "id": "aA0iregCJ320",
        "outputId": "c17b2369-d32a-4492-febe-4262882a3501"
      },
      "execution_count": null,
      "outputs": [
        {
          "output_type": "execute_result",
          "data": {
            "text/plain": [
              "[50, 40, 30, 20, 10]"
            ]
          },
          "metadata": {},
          "execution_count": 31
        }
      ]
    },
    {
      "cell_type": "markdown",
      "source": [
        "##11. Write a code to create a tuple with the elements 100, 200, 300 and print it."
      ],
      "metadata": {
        "id": "QUEpNbUFKLWv"
      }
    },
    {
      "cell_type": "code",
      "source": [
        "t1=(100,200,300)\n",
        "print(t1)"
      ],
      "metadata": {
        "colab": {
          "base_uri": "https://localhost:8080/"
        },
        "id": "4zSCLVwsKOsQ",
        "outputId": "35e7cede-e37a-4bff-93a2-221afc398990"
      },
      "execution_count": null,
      "outputs": [
        {
          "output_type": "stream",
          "name": "stdout",
          "text": [
            "(100, 200, 300)\n"
          ]
        }
      ]
    },
    {
      "cell_type": "markdown",
      "source": [
        "##12. Write a code to access the second-to-last element of the tuple ('red', 'green', 'blue', 'yellow')."
      ],
      "metadata": {
        "id": "C8WnzCFYKWYc"
      }
    },
    {
      "cell_type": "code",
      "source": [
        "t2=('red', 'green', 'blue', 'yellow')\n",
        "t2[-2] #using negative indexing"
      ],
      "metadata": {
        "colab": {
          "base_uri": "https://localhost:8080/",
          "height": 35
        },
        "id": "OYAhlm4wKauz",
        "outputId": "0d21d6c6-9463-4e13-a37a-d5f5d66e9d1b"
      },
      "execution_count": null,
      "outputs": [
        {
          "output_type": "execute_result",
          "data": {
            "text/plain": [
              "'blue'"
            ],
            "application/vnd.google.colaboratory.intrinsic+json": {
              "type": "string"
            }
          },
          "metadata": {},
          "execution_count": 34
        }
      ]
    },
    {
      "cell_type": "markdown",
      "source": [
        "##13. Write a code to find the minimum number in the tuple (10, 20, 5, 15)."
      ],
      "metadata": {
        "id": "jShl6NXyKpSG"
      }
    },
    {
      "cell_type": "code",
      "source": [
        "t3=(10, 20, 5, 15)\n",
        "min(t3)"
      ],
      "metadata": {
        "colab": {
          "base_uri": "https://localhost:8080/"
        },
        "id": "ETG_dycYKsV7",
        "outputId": "b7d8a092-561c-45bc-dd63-6a39507a41fb"
      },
      "execution_count": null,
      "outputs": [
        {
          "output_type": "execute_result",
          "data": {
            "text/plain": [
              "5"
            ]
          },
          "metadata": {},
          "execution_count": 36
        }
      ]
    },
    {
      "cell_type": "markdown",
      "source": [
        "##14. Write a code to find the index of the element \"cat\" in the tuple ('dog', 'cat', 'rabbit')."
      ],
      "metadata": {
        "id": "MgiZ1VyJK5wx"
      }
    },
    {
      "cell_type": "code",
      "source": [
        "t4=('dog', 'cat', 'rabbit')\n",
        "t4.index(\"cat\")"
      ],
      "metadata": {
        "colab": {
          "base_uri": "https://localhost:8080/"
        },
        "id": "u3gBhI5FK-Sp",
        "outputId": "ef2f38e1-37bd-4315-9afc-651d6f02f90c"
      },
      "execution_count": null,
      "outputs": [
        {
          "output_type": "execute_result",
          "data": {
            "text/plain": [
              "1"
            ]
          },
          "metadata": {},
          "execution_count": 37
        }
      ]
    },
    {
      "cell_type": "markdown",
      "source": [
        "##15. Write a code to create a tuple containing three different fruits and check if \"kiwi\" is in it."
      ],
      "metadata": {
        "id": "nH_gpj6hLHQC"
      }
    },
    {
      "cell_type": "code",
      "source": [
        "t5=(\"apple\", \"banana\", \"kiwi\")\n",
        "print(t5)\n",
        "\"kiwi\" in t5 #will return 'True'"
      ],
      "metadata": {
        "colab": {
          "base_uri": "https://localhost:8080/"
        },
        "id": "ZhzPV_SILJ_U",
        "outputId": "147da1df-b7e1-4b42-bdf1-8546a7ce652f"
      },
      "execution_count": null,
      "outputs": [
        {
          "output_type": "stream",
          "name": "stdout",
          "text": [
            "('apple', 'banana', 'kiwi')\n"
          ]
        },
        {
          "output_type": "execute_result",
          "data": {
            "text/plain": [
              "True"
            ]
          },
          "metadata": {},
          "execution_count": 40
        }
      ]
    },
    {
      "cell_type": "markdown",
      "source": [
        "##16. Write a code to create a set with the elements 'a', 'b', 'c' and print it."
      ],
      "metadata": {
        "id": "T4zLvHwFLk5K"
      }
    },
    {
      "cell_type": "code",
      "source": [
        "s1={'a', 'b', 'c'}\n",
        "print(s1)"
      ],
      "metadata": {
        "colab": {
          "base_uri": "https://localhost:8080/"
        },
        "id": "FZu5g35JLpJd",
        "outputId": "c3bb6999-6b8c-4811-fd89-f551c4bcfd5f"
      },
      "execution_count": null,
      "outputs": [
        {
          "output_type": "stream",
          "name": "stdout",
          "text": [
            "{'a', 'c', 'b'}\n"
          ]
        }
      ]
    },
    {
      "cell_type": "markdown",
      "source": [
        "##17. Write a code to clear all elements from the set {1, 2, 3, 4, 5}."
      ],
      "metadata": {
        "id": "CPxQsVdZLzU3"
      }
    },
    {
      "cell_type": "code",
      "source": [
        "s2={1, 2, 3, 4, 5}\n",
        "s2.clear() #will clear all the elements and set will become empty set"
      ],
      "metadata": {
        "id": "fA10Jdc4L2M3"
      },
      "execution_count": null,
      "outputs": []
    },
    {
      "cell_type": "code",
      "source": [
        "s2"
      ],
      "metadata": {
        "colab": {
          "base_uri": "https://localhost:8080/"
        },
        "id": "y8foduUDL8nn",
        "outputId": "f84921da-86ee-4c73-c417-fbcedc8ca20d"
      },
      "execution_count": null,
      "outputs": [
        {
          "output_type": "execute_result",
          "data": {
            "text/plain": [
              "set()"
            ]
          },
          "metadata": {},
          "execution_count": 48
        }
      ]
    },
    {
      "cell_type": "markdown",
      "source": [
        "##18. Write a code to remove the element 4 from the set {1, 2, 3, 4}."
      ],
      "metadata": {
        "id": "i_0RltonMaWf"
      }
    },
    {
      "cell_type": "code",
      "source": [
        "s3={1, 2, 3, 4}\n",
        "s3.remove(4) #will remove the element 4\n",
        "print(s3)"
      ],
      "metadata": {
        "colab": {
          "base_uri": "https://localhost:8080/"
        },
        "id": "WVCbRJzbMbIF",
        "outputId": "abf4b525-e86b-4536-a64f-6554432aa15f"
      },
      "execution_count": null,
      "outputs": [
        {
          "output_type": "stream",
          "name": "stdout",
          "text": [
            "{1, 2, 3}\n"
          ]
        }
      ]
    },
    {
      "cell_type": "markdown",
      "source": [
        "##19. Write a code to find the union of two sets {1, 2, 3} and {3, 4, 5}."
      ],
      "metadata": {
        "id": "poUyRWB8Mul3"
      }
    },
    {
      "cell_type": "code",
      "source": [
        "s4={1, 2, 3}\n",
        "s5={3, 4, 5}\n",
        "s4 | s5 #gives new set will all elements while removing duplicates"
      ],
      "metadata": {
        "colab": {
          "base_uri": "https://localhost:8080/"
        },
        "id": "kWhI5BedMyub",
        "outputId": "0ce2bf95-7472-4b7a-c6db-9042f4b1317a"
      },
      "execution_count": null,
      "outputs": [
        {
          "output_type": "execute_result",
          "data": {
            "text/plain": [
              "{1, 2, 3, 4, 5}"
            ]
          },
          "metadata": {},
          "execution_count": 55
        }
      ]
    },
    {
      "cell_type": "markdown",
      "source": [
        "##20. Write a code to find the intersection of two sets {1, 2, 3} and {2, 3, 4}."
      ],
      "metadata": {
        "id": "LnLEsZVXNRvT"
      }
    },
    {
      "cell_type": "code",
      "source": [
        "s6= {1, 2, 3}\n",
        "s7= {2, 3, 4}\n",
        "s6 & s7 #gives common elemnts in both sets"
      ],
      "metadata": {
        "colab": {
          "base_uri": "https://localhost:8080/"
        },
        "id": "3Yt5ofcPNSOR",
        "outputId": "b5b32d6e-cdb2-4957-b222-0016374d617e"
      },
      "execution_count": null,
      "outputs": [
        {
          "output_type": "execute_result",
          "data": {
            "text/plain": [
              "{2, 3}"
            ]
          },
          "metadata": {},
          "execution_count": 56
        }
      ]
    },
    {
      "cell_type": "markdown",
      "source": [
        "##21. Write a code to create a dictionary with the keys \"name\", \"age\", and \"city\", and print it."
      ],
      "metadata": {
        "id": "wIbxY9oCNhOs"
      }
    },
    {
      "cell_type": "code",
      "source": [
        "d1={\"name\":\"Kunal Rao\", \"age\":\"24\", \"city\":\"Hyderabad\"}\n",
        "print(d1)"
      ],
      "metadata": {
        "colab": {
          "base_uri": "https://localhost:8080/"
        },
        "id": "OHuMns8INjgQ",
        "outputId": "9e65b0da-2c54-40a1-c8d5-cafa87f6a817"
      },
      "execution_count": null,
      "outputs": [
        {
          "output_type": "stream",
          "name": "stdout",
          "text": [
            "{'name': 'Kunal Rao', 'age': '24', 'city': 'Hyderabad'}\n"
          ]
        }
      ]
    },
    {
      "cell_type": "markdown",
      "source": [
        "##22. Write a code to add a new key-value pair \"country\": \"USA\" to the dictionary {'name': 'John', 'age': 25}."
      ],
      "metadata": {
        "id": "NWOTeW45Ny_J"
      }
    },
    {
      "cell_type": "code",
      "source": [
        "d2={'name': 'John', 'age': 25}\n",
        "d2[\"country\"]=\"USA\" #will add new pain at end\n",
        "print(d2)"
      ],
      "metadata": {
        "colab": {
          "base_uri": "https://localhost:8080/"
        },
        "id": "mdMWiSr3N3Ne",
        "outputId": "3278d08c-1bee-4efd-e0a3-d6cfdc1b6390"
      },
      "execution_count": null,
      "outputs": [
        {
          "output_type": "stream",
          "name": "stdout",
          "text": [
            "{'name': 'John', 'age': 25, 'country': 'USA'}\n"
          ]
        }
      ]
    },
    {
      "cell_type": "markdown",
      "source": [
        "##23. Write a code to access the value associated with the key \"name\" in the dictionary {'name': 'Alice', 'age': 30}."
      ],
      "metadata": {
        "id": "5j6lN8drOTxT"
      }
    },
    {
      "cell_type": "code",
      "source": [
        "d3={'name': 'Alice', 'age': 30}\n",
        "d3[\"name\"] #key acts as index"
      ],
      "metadata": {
        "colab": {
          "base_uri": "https://localhost:8080/",
          "height": 35
        },
        "id": "WlLPlMaYOVkO",
        "outputId": "30ce9836-dba8-4da1-fff7-6e654d4018c1"
      },
      "execution_count": null,
      "outputs": [
        {
          "output_type": "execute_result",
          "data": {
            "text/plain": [
              "'Alice'"
            ],
            "application/vnd.google.colaboratory.intrinsic+json": {
              "type": "string"
            }
          },
          "metadata": {},
          "execution_count": 63
        }
      ]
    },
    {
      "cell_type": "markdown",
      "source": [
        "##24. Write a code to remove the key \"age\" from the dictionary {'name': 'Bob', 'age': 22, 'city': 'New York'}."
      ],
      "metadata": {
        "id": "U-MBCRckOpRW"
      }
    },
    {
      "cell_type": "code",
      "source": [
        "d4={'name': 'Bob', 'age': 22, 'city': 'New York'}\n",
        "d4.pop(\"age\") #pop will pop out the key and value pair both from d4"
      ],
      "metadata": {
        "colab": {
          "base_uri": "https://localhost:8080/"
        },
        "id": "lFsdERz1Oq7k",
        "outputId": "8b30085b-9356-425a-9a46-7d7042e04446"
      },
      "execution_count": null,
      "outputs": [
        {
          "output_type": "stream",
          "name": "stdout",
          "text": [
            "{'name': 'Bob', 'city': 'New York'}\n"
          ]
        }
      ]
    },
    {
      "cell_type": "code",
      "source": [
        "print(d4)"
      ],
      "metadata": {
        "colab": {
          "base_uri": "https://localhost:8080/"
        },
        "id": "6d2qHHcOO08u",
        "outputId": "a6dd7951-ce75-4601-de9e-a3c137992990"
      },
      "execution_count": null,
      "outputs": [
        {
          "output_type": "stream",
          "name": "stdout",
          "text": [
            "{'name': 'Bob', 'city': 'New York'}\n"
          ]
        }
      ]
    },
    {
      "cell_type": "markdown",
      "source": [
        "##25. Write a code to check if the key \"city\" exists in the dictionary {'name': 'Alice', 'city': 'Paris'}."
      ],
      "metadata": {
        "id": "BhxFHgLRPPDT"
      }
    },
    {
      "cell_type": "code",
      "source": [
        "d5={'name': 'Alice', 'city': 'Paris'}\n",
        "\"city\" in d5 #returns True"
      ],
      "metadata": {
        "colab": {
          "base_uri": "https://localhost:8080/"
        },
        "id": "Zq_d3LKuPRBf",
        "outputId": "b76a5c67-ad39-4c9d-d0ac-00b1cd5fcd22"
      },
      "execution_count": null,
      "outputs": [
        {
          "output_type": "execute_result",
          "data": {
            "text/plain": [
              "True"
            ]
          },
          "metadata": {},
          "execution_count": 68
        }
      ]
    },
    {
      "cell_type": "markdown",
      "source": [
        "##26. Write a code to create a list, a tuple, and a dictionary, and print them all."
      ],
      "metadata": {
        "id": "1zYszbcyPjcR"
      }
    },
    {
      "cell_type": "code",
      "source": [
        "#creating\n",
        "\n",
        "List=[1,\"kunal\",\"c\",4.8,1+2j]   #list\n",
        "Tuple=(\"K\",\"Rao\",2.2,9,4+1j)    #tuple\n",
        "Dictionary={'name': 'Abhishek', 'city': 'Bilaspur'}   #dictionary\n",
        "\n",
        "#printing\n",
        "print(List)\n",
        "print(Tuple)\n",
        "print(Dictionary)"
      ],
      "metadata": {
        "colab": {
          "base_uri": "https://localhost:8080/"
        },
        "id": "zL69xmJBPlJK",
        "outputId": "790ef281-f56a-41d5-9b1a-8fe2ac25721c"
      },
      "execution_count": null,
      "outputs": [
        {
          "output_type": "stream",
          "name": "stdout",
          "text": [
            "[1, 'kunal', 'c', 4.8, (1+2j)]\n",
            "('K', 'Rao', 2.2, 9, (4+1j))\n",
            "{'name': 'Abhishek', 'city': 'Bilaspur'}\n"
          ]
        }
      ]
    },
    {
      "cell_type": "markdown",
      "source": [
        "##27. Write a code to create a list of 5 random numbers between 1 and 100, sort it in ascending order, and print the result."
      ],
      "metadata": {
        "id": "wOUe6yzlQoaB"
      }
    },
    {
      "cell_type": "code",
      "source": [
        "import random\n",
        "r= random.sample(range(1, 101), 5) #creats list of defined random elements from provided range\n",
        "r.sort()\n",
        "print(r)"
      ],
      "metadata": {
        "colab": {
          "base_uri": "https://localhost:8080/"
        },
        "id": "SekIXUnsQvEm",
        "outputId": "6127a62b-1adf-4b3f-b5c0-3458ab9170ce"
      },
      "execution_count": null,
      "outputs": [
        {
          "output_type": "stream",
          "name": "stdout",
          "text": [
            "[7, 27, 54, 57, 94]\n"
          ]
        }
      ]
    },
    {
      "cell_type": "markdown",
      "source": [
        "##28. Write a code to create a list with strings and print the element at the third index."
      ],
      "metadata": {
        "id": "urYvAkTOUBzv"
      }
    },
    {
      "cell_type": "code",
      "source": [
        "LIST=[1.1, 2, \"kunal\", \"C\", 1+6j]\n",
        "LIST[2] #third index is 2"
      ],
      "metadata": {
        "colab": {
          "base_uri": "https://localhost:8080/",
          "height": 35
        },
        "id": "kFu4chpEUFgD",
        "outputId": "c08c424b-08ef-49da-f0e5-31c0c8b7a515"
      },
      "execution_count": null,
      "outputs": [
        {
          "output_type": "execute_result",
          "data": {
            "text/plain": [
              "'kunal'"
            ],
            "application/vnd.google.colaboratory.intrinsic+json": {
              "type": "string"
            }
          },
          "metadata": {},
          "execution_count": 75
        }
      ]
    },
    {
      "cell_type": "markdown",
      "source": [
        "##29. Write a code to combine two dictionaries into one and print the result."
      ],
      "metadata": {
        "id": "hFOGDZFbUg5U"
      }
    },
    {
      "cell_type": "code",
      "source": [
        "di1 = {'a': 1, 'b': 2}\n",
        "di2 = {'c': 3, 'd': 4}\n",
        "di1.update(di2) #will update di1 with di2 key value pair\n",
        "print(di1)"
      ],
      "metadata": {
        "colab": {
          "base_uri": "https://localhost:8080/"
        },
        "id": "4t8MfKq6Ulb5",
        "outputId": "cb70e42c-b89c-4df5-e12d-e9fd3515170b"
      },
      "execution_count": null,
      "outputs": [
        {
          "output_type": "stream",
          "name": "stdout",
          "text": [
            "{'a': 1, 'b': 2, 'c': 3, 'd': 4}\n"
          ]
        }
      ]
    },
    {
      "cell_type": "markdown",
      "source": [
        "##30. Write a code to convert a list of strings into a set."
      ],
      "metadata": {
        "id": "I7AiQqZpV8NB"
      }
    },
    {
      "cell_type": "code",
      "source": [
        "lis=[1, 1, 2.1, 2.1, \"Kunal\", \"C\", 2+2j]\n",
        "type(lis)\n",
        "set(lis) #will convert lis into set with unique unordered elements from lis"
      ],
      "metadata": {
        "colab": {
          "base_uri": "https://localhost:8080/"
        },
        "id": "IiSBIDWIV82n",
        "outputId": "660a0f48-7424-4b0b-ecd6-8d5c11b3a2da"
      },
      "execution_count": null,
      "outputs": [
        {
          "output_type": "execute_result",
          "data": {
            "text/plain": [
              "{(2+2j), 1, 2.1, 'C', 'Kunal'}"
            ]
          },
          "metadata": {},
          "execution_count": 83
        }
      ]
    }
  ]
}