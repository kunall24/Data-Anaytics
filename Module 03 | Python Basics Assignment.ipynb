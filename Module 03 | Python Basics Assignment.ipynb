{
  "nbformat": 4,
  "nbformat_minor": 0,
  "metadata": {
    "colab": {
      "provenance": []
    },
    "kernelspec": {
      "name": "python3",
      "display_name": "Python 3"
    },
    "language_info": {
      "name": "python"
    }
  },
  "cells": [
    {
      "cell_type": "markdown",
      "source": [
        "#Assignment : Python Basics Assignment"
      ],
      "metadata": {
        "id": "z-d_cTUFaYn6"
      }
    },
    {
      "cell_type": "markdown",
      "source": [
        "**1. Explain the key features of Python that make it a popular choice for programming?**\n",
        "\n",
        "*  Easy to larn and use Syntax: Python has a simple, readable syntax which are easy to learn making it beginner friendly and easy to write and understand.\n",
        "\n",
        "*   Rich Library: It offers built-in modules and libraries for various tasks, reducing the need to write code from scratch. Example: Pandas, Numpy\n",
        "\n",
        "*   Scalibility and Versatility: Python codes can run on different operating systems without changes making it scalable and versatile to use.\n",
        "\n",
        "*   Strong Community Support: A large community ensures regular updates, abundant resources, and help for learners and developers."
      ],
      "metadata": {
        "id": "VYKDn5V2aml4"
      }
    },
    {
      "cell_type": "markdown",
      "source": [
        "**2. Describe the role of predefined keywords in Python and provide examples of how they are used in a program.**\n",
        "\n",
        "*  Predefined keywords in Python are special words that have a fixed meaning and purpose in the language. These words are reserved and cannot be used as variable names or identifier. These help define the structure and rules of Python programs."
      ],
      "metadata": {
        "id": "6u5mP2tuddpW"
      }
    },
    {
      "cell_type": "code",
      "source": [
        "#examples of how they are used in a program\n",
        "age= 19\n",
        "if age > 18: #if is a keyword and has a predefined purpose and meaning. Hence it cannot be used as any variable or identifier.\n",
        "    print(\"You are an adult\")"
      ],
      "metadata": {
        "colab": {
          "base_uri": "https://localhost:8080/"
        },
        "id": "M9szdyO2fAMs",
        "outputId": "df5e2864-511b-4a47-ee03-5bc3dc0fb6c3"
      },
      "execution_count": null,
      "outputs": [
        {
          "output_type": "stream",
          "name": "stdout",
          "text": [
            "You are an adult\n"
          ]
        }
      ]
    },
    {
      "cell_type": "code",
      "source": [
        "#examples of how they are used in a program\n",
        "for i in range(5): #for is a keyword and has a predefined purpose and meaning. Hence it cannot be used as any variable or identifier.\n",
        "  print(i, end=\", \")"
      ],
      "metadata": {
        "colab": {
          "base_uri": "https://localhost:8080/"
        },
        "id": "DlpbrDX3f_V2",
        "outputId": "bd6f2ce4-68e1-4da1-9b53-ed67fb3bad84"
      },
      "execution_count": null,
      "outputs": [
        {
          "output_type": "stream",
          "name": "stdout",
          "text": [
            "0, 1, 2, 3, 4, "
          ]
        }
      ]
    },
    {
      "cell_type": "markdown",
      "source": [
        "**3. Compare and contrast mutable and immutable objects in Python with examples.**\n",
        "\n",
        "*   Mutable objects are those that can be changed after creation, while immutable objects cannot be changed once they are created. Example:\n",
        "List, Dictionary are mutable while Integer, String, Tuple are Immutable.\n"
      ],
      "metadata": {
        "id": "Qh43I8TZglNl"
      }
    },
    {
      "cell_type": "code",
      "source": [
        "k = [1, 2, 3]  # List\n",
        "k.append(4)    # Adding new element in the list. List is changed and hence mutable\n",
        "print(k)       # Output: [1, 2, 3, 4]\n"
      ],
      "metadata": {
        "colab": {
          "base_uri": "https://localhost:8080/"
        },
        "id": "_Sv5pDPGh68G",
        "outputId": "db542ad1-9dc5-47bd-8698-f2b4a0adf3e6"
      },
      "execution_count": null,
      "outputs": [
        {
          "output_type": "stream",
          "name": "stdout",
          "text": [
            "[1, 2, 3, 4]\n"
          ]
        }
      ]
    },
    {
      "cell_type": "code",
      "source": [
        "r = (10, 20, 30)  # Tuple\n",
        "r[1] = 40         # Trying to replace/change 0th index (1st element) of the tuple by 40. Howeever, This will raise an error due to immuatability."
      ],
      "metadata": {
        "colab": {
          "base_uri": "https://localhost:8080/",
          "height": 162
        },
        "id": "htNMMB1PiMyD",
        "outputId": "88a7b925-f80c-43e2-b9ba-69f0e012d2f4"
      },
      "execution_count": null,
      "outputs": [
        {
          "output_type": "error",
          "ename": "TypeError",
          "evalue": "'tuple' object does not support item assignment",
          "traceback": [
            "\u001b[0;31m---------------------------------------------------------------------------\u001b[0m",
            "\u001b[0;31mTypeError\u001b[0m                                 Traceback (most recent call last)",
            "\u001b[0;32m<ipython-input-9-0b4dc16cb5ac>\u001b[0m in \u001b[0;36m<cell line: 0>\u001b[0;34m()\u001b[0m\n\u001b[1;32m      1\u001b[0m \u001b[0mr\u001b[0m \u001b[0;34m=\u001b[0m \u001b[0;34m(\u001b[0m\u001b[0;36m10\u001b[0m\u001b[0;34m,\u001b[0m \u001b[0;36m20\u001b[0m\u001b[0;34m,\u001b[0m \u001b[0;36m30\u001b[0m\u001b[0;34m)\u001b[0m  \u001b[0;31m# Tuple\u001b[0m\u001b[0;34m\u001b[0m\u001b[0;34m\u001b[0m\u001b[0m\n\u001b[0;32m----> 2\u001b[0;31m \u001b[0mr\u001b[0m\u001b[0;34m[\u001b[0m\u001b[0;36m1\u001b[0m\u001b[0;34m]\u001b[0m \u001b[0;34m=\u001b[0m \u001b[0;36m40\u001b[0m         \u001b[0;31m# Trying to replace/change 0th index (1st element) of the tuple by 40. Howeever, This will raise an error due to immuatability.\u001b[0m\u001b[0;34m\u001b[0m\u001b[0;34m\u001b[0m\u001b[0m\n\u001b[0m",
            "\u001b[0;31mTypeError\u001b[0m: 'tuple' object does not support item assignment"
          ]
        }
      ]
    },
    {
      "cell_type": "markdown",
      "source": [
        "**4. Discuss the different types of operators in Python and provide examples of how they are used.**\n",
        "\n",
        "*  Arithmetic Operators: Used to perform basic mathematical operations.\n",
        "  * \"+\" (Addition)\n",
        "  * \"-\"\t(Subtraction)\n",
        "  *\t\"*\" (Multiplication)\n",
        "  * \"/\"\t(Division)\n",
        "  * \"//\"(Floor Division)\n",
        "  * \"%\"\t(Modulus)\n",
        "\n",
        "*  Comparison Operators: Used to compare two values.\n",
        "  * \"==\" (Equal to)\n",
        "  * \"!=\" (Not Equal to)\n",
        "  *\t\">\"  (Lesser)\n",
        "  * \"<\"\t (Greater)\n",
        "  * \">=\" (Greater or Equal)\n",
        "  * \"<=\" (Less or Equal)\n",
        "\n",
        "*  Assignment Operators: Used to assign values to variables.\n",
        "  * \"=\" (Assign)\n",
        "  * \"+=\" (Increase value and assign)\n",
        "  *\t\"-=\"  (Decrease value and assign)\n",
        "  * \"*=\"\t (Multiply value and assign)\n",
        "  * \"/=\" (Divide value and assign)\n",
        "\n",
        "* Logical Operators: Used to combine multiple conditions.\n",
        "  * and (True if both are true)\n",
        "  * or (True if at least one is true)\n",
        "  *\tnot (Reverses the result)\n",
        "\n",
        "* Bitwise Operators: Work on binary values.\n",
        "  * \"&\" (AND)\n",
        "  * \"^\" (XOR)\n",
        "  *\t\"~\" (NOT)\n",
        "  *\t\"<<\" (Left Shift)\n",
        "  *\t\">>\" (Right Shift)\n",
        "\n",
        "*  Membership Operators: Check if a value is present in a sequence.\n",
        "  *\tin (True if present)\n",
        "  *\tnot in (True if not present)\n",
        "\n",
        "*  Identity Operators: Check if two variables refer to the same object.\n",
        "  *\tis (True if same object)\n",
        "  *\tis not (True if not same object)"
      ],
      "metadata": {
        "id": "iPxED__kjXsF"
      }
    },
    {
      "cell_type": "code",
      "source": [
        "# ---------- Arithmetic Operators ----------\n",
        "a = 10\n",
        "b = 3\n",
        "print(\"Arithmetic Operators:\")\n",
        "print(\"a + b =\", a + b)      # Addition\n",
        "print(\"a - b =\", a - b)      # Subtraction\n",
        "print(\"a * b =\", a * b)      # Multiplication\n",
        "print(\"a / b =\", a / b)      # Division\n",
        "print(\"a // b =\", a // b)    # Floor Division\n",
        "print(\"a % b =\", a % b)      # Modulus\n",
        "\n",
        "# ---------- Comparison Operators ----------\n",
        "print(\"\\nComparison Operators:\")\n",
        "print(\"a == b:\", a == b)     # Equal to\n",
        "print(\"a != b:\", a != b)     # Not Equal to\n",
        "print(\"a > b:\", a > b)       # Greater\n",
        "print(\"a < b:\", a < b)       # Lesser\n",
        "print(\"a >= b:\", a >= b)     # Greater or Equal\n",
        "print(\"a <= b:\", a <= b)     # Less or Equal\n",
        "\n",
        "# ---------- Assignment Operators ----------\n",
        "print(\"\\nAssignment Operators:\")\n",
        "x = 5\n",
        "print(\"Initial x =\", x)\n",
        "x += 3\n",
        "print(\"x += 3 ->\", x)\n",
        "x -= 2\n",
        "print(\"x -= 2 ->\", x)\n",
        "x *= 4\n",
        "print(\"x *= 4 ->\", x)\n",
        "x /= 3\n",
        "print(\"x /= 3 ->\", x)\n",
        "\n",
        "# ---------- Logical Operators ----------\n",
        "print(\"\\nLogical Operators:\")\n",
        "print(\"True and False =\", True and False)\n",
        "print(\"True or False =\", True or False)\n",
        "print(\"not True =\", not True)\n",
        "\n",
        "# ---------- Bitwise Operators ----------\n",
        "print(\"\\nBitwise Operators:\")\n",
        "p = 5     # 0101 in binary\n",
        "q = 3     # 0011 in binary\n",
        "print(\"p & q =\", p & q)      # AND\n",
        "print(\"p ^ q =\", p ^ q)      # XOR\n",
        "print(\"~p =\", ~p)            # NOT\n",
        "print(\"p << 1 =\", p << 1)    # Left Shift\n",
        "print(\"p >> 1 =\", p >> 1)    # Right Shift\n",
        "\n",
        "# ---------- Membership Operators ----------\n",
        "print(\"\\nMembership Operators:\")\n",
        "my_list = [1, 2, 3, 4, 5]\n",
        "print(\"3 in my_list:\", 3 in my_list)\n",
        "print(\"9 not in my_list:\", 9 not in my_list)\n",
        "\n",
        "# ---------- Identity Operators ----------\n",
        "print(\"\\nIdentity Operators:\")\n",
        "m = [1, 2]\n",
        "n = m\n",
        "z = [1, 2]\n",
        "print(\"m is n:\", m is n)        # True (same object)\n",
        "print(\"m is not z:\", m is not z) # True (different objects)"
      ],
      "metadata": {
        "colab": {
          "base_uri": "https://localhost:8080/"
        },
        "id": "WBG_Jvsirkem",
        "outputId": "c941a0a7-b15e-436d-e067-515beb2ff371"
      },
      "execution_count": null,
      "outputs": [
        {
          "output_type": "stream",
          "name": "stdout",
          "text": [
            "Arithmetic Operators:\n",
            "a + b = 13\n",
            "a - b = 7\n",
            "a * b = 30\n",
            "a / b = 3.3333333333333335\n",
            "a // b = 3\n",
            "a % b = 1\n",
            "\n",
            "Comparison Operators:\n",
            "a == b: False\n",
            "a != b: True\n",
            "a > b: True\n",
            "a < b: False\n",
            "a >= b: True\n",
            "a <= b: False\n",
            "\n",
            "Assignment Operators:\n",
            "Initial x = 5\n",
            "x += 3 -> 8\n",
            "x -= 2 -> 6\n",
            "x *= 4 -> 24\n",
            "x /= 3 -> 8.0\n",
            "\n",
            "Logical Operators:\n",
            "True and False = False\n",
            "True or False = True\n",
            "not True = False\n",
            "\n",
            "Bitwise Operators:\n",
            "p & q = 1\n",
            "p ^ q = 6\n",
            "~p = -6\n",
            "p << 1 = 10\n",
            "p >> 1 = 2\n",
            "\n",
            "Membership Operators:\n",
            "3 in my_list: True\n",
            "9 not in my_list: True\n",
            "\n",
            "Identity Operators:\n",
            "m is n: True\n",
            "m is not z: True\n"
          ]
        }
      ]
    },
    {
      "cell_type": "markdown",
      "source": [
        "**5. Explain the concept of type casting in Python with examples.**\n",
        "\n",
        "*  Type casting is the process of converting one data type into another. Example, converting intiger into flote or float into intiger. This is done using functions like int(), float(), str(), etc."
      ],
      "metadata": {
        "id": "wJuoUxO0sQjt"
      }
    },
    {
      "cell_type": "code",
      "source": [
        "print(\"Convert float to int\")\n",
        "x = 10.7\n",
        "y = int(x)\n",
        "print(y)     # Output: 10 (decimal part removed)\n",
        "print()\n",
        "\n",
        "print(\"Convert int to float\")\n",
        "a = 5\n",
        "b = float(a)\n",
        "print(b)     # Output: 5.0\n",
        "print()\n",
        "\n",
        "print(\"Convert int to string\")\n",
        "num = 100\n",
        "print(\"num:\", num)\n",
        "print(\"type of num is:\", type(num))\n",
        "text = str(num)\n",
        "print(\"text:\", text)  # Output: \"100\"\n",
        "print(\"type of text is:\", type(text))\n",
        "print()\n",
        "\n",
        "print(\"Convert string to int\")\n",
        "s = \"25\"\n",
        "n = int(s)\n",
        "print(n + 5)  # Output: 30"
      ],
      "metadata": {
        "colab": {
          "base_uri": "https://localhost:8080/"
        },
        "id": "aeoM4ZShs5mh",
        "outputId": "f11cb7ac-0a8a-4dcf-bea3-7739705602fd"
      },
      "execution_count": null,
      "outputs": [
        {
          "output_type": "stream",
          "name": "stdout",
          "text": [
            "Convert float to int\n",
            "10\n",
            "\n",
            "Convert int to float\n",
            "5.0\n",
            "\n",
            "Convert int to string\n",
            "num: 100\n",
            "type of num is: <class 'int'>\n",
            "text: 100\n",
            "type of text is: <class 'str'>\n",
            "\n",
            "Convert string to int\n",
            "30\n"
          ]
        }
      ]
    },
    {
      "cell_type": "markdown",
      "source": [
        "**6. How do conditional statements work in Python? Illustrate with examples.**\n",
        "\n",
        "*   Conditional statements (if, elif, else) are used to make decisions in a program. They check whether a condition is True or False and execute code accordingly.\n"
      ],
      "metadata": {
        "id": "RcwaKq6swCdC"
      }
    },
    {
      "cell_type": "code",
      "source": [
        "x = 7\n",
        "if x < 5:\n",
        "    print(\"x is less than 5\")\n",
        "elif x == 7:\n",
        "    print(\"x is equal to 7\")  # This line runs\n",
        "else:\n",
        "    print(\"x is greater than 5 but not 7\")\n"
      ],
      "metadata": {
        "colab": {
          "base_uri": "https://localhost:8080/"
        },
        "id": "g21QGnBjwZ8I",
        "outputId": "cb628c1e-2583-4e25-a068-b58cd154e7af"
      },
      "execution_count": null,
      "outputs": [
        {
          "output_type": "stream",
          "name": "stdout",
          "text": [
            "x is equal to 7\n"
          ]
        }
      ]
    },
    {
      "cell_type": "markdown",
      "source": [
        "**7. Describe the different types of loops in Python and their use cases with examples.**\n",
        "\n",
        "*  Loops are used to repeat a block of code multiple times until a certain condition is met or run over a sequence untill last element. They help in reducing repetition and make programs more efficient.\n",
        "\n",
        "* Types of loop:\n",
        "  * for loop (Used to iterate over a sequence like a list, string, or range.)\n",
        "  * while loop (Repeats a block of code as long as a condition is true.)\n"
      ],
      "metadata": {
        "id": "FymKTgA7wtDk"
      }
    },
    {
      "cell_type": "code",
      "source": [
        "# Example: Printing numbers from 1 to 5\n",
        "print(\"------for loop------\")\n",
        "for i in range(1, 6): # Last elemt in range will always be excluded.\n",
        "    print(i)\n",
        "print()\n",
        "\n",
        "# Example: Print numbers until x reaches 5\n",
        "print(\"------while loop------\")\n",
        "x = 1\n",
        "while x <= 5:\n",
        "    print(x)\n",
        "    x += 1"
      ],
      "metadata": {
        "colab": {
          "base_uri": "https://localhost:8080/"
        },
        "id": "w96NgUKoxstQ",
        "outputId": "32e5325b-60f3-40dc-fdea-4e330d9ec256"
      },
      "execution_count": null,
      "outputs": [
        {
          "output_type": "stream",
          "name": "stdout",
          "text": [
            "------for loop------\n",
            "1\n",
            "2\n",
            "3\n",
            "4\n",
            "5\n",
            "\n",
            "------while loop------\n",
            "1\n",
            "2\n",
            "3\n",
            "4\n",
            "5\n"
          ]
        }
      ]
    }
  ]
}