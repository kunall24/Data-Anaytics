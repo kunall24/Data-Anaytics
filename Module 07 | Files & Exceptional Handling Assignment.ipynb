{
  "nbformat": 4,
  "nbformat_minor": 0,
  "metadata": {
    "colab": {
      "provenance": []
    },
    "kernelspec": {
      "name": "python3",
      "display_name": "Python 3"
    },
    "language_info": {
      "name": "python"
    }
  },
  "cells": [
    {
      "cell_type": "markdown",
      "source": [
        "# **Module 07 | Files, Exceptional Handling, and Memory Management**"
      ],
      "metadata": {
        "id": "Ffyzrnrv7CPx"
      }
    },
    {
      "cell_type": "markdown",
      "source": [
        "# **Theoritical Questions and Answers**"
      ],
      "metadata": {
        "id": "mjKGJI6h651h"
      }
    },
    {
      "cell_type": "markdown",
      "source": [
        "## 1. What is the difference between interpreted and compiled languages?\n",
        "* Interpreted languages run the code line by line using an interpreter, which makes debugging easier but execution a bit slower. On the other hand, compiled languages translate the entire code into machine code before execution, making them faster but less flexible for debugging.\n",
        "\n",
        "## 2. What is exception handling in Python?\n",
        "* Exception handling is a way to gracefully manage errors in a program. Instead of crashing the program when an error occurs, we can use try, except, finally, and else blocks to handle those situations smartly.\n",
        "\n",
        "## 3. What is the purpose of the finally block in exception handling?\n",
        "* The finally block always runs, no matter if an exception occurs or not. It’s mostly used to clean up resources like closing files or releasing memory.\n",
        "\n",
        "## 4. What is logging in Python?\n",
        "* Logging is a method to record events or messages during program execution. It’s super helpful for debugging and keeping track of what’s going on inside the program, especially in large applications.\n",
        "\n",
        "## 5. What is the significance of the del method in Python?\n",
        "* The __del__ method is called when an object is about to be destroyed. It’s useful for clean-up tasks, but we should use it carefully because it’s not always called immediately after an object goes out of scope.\n",
        "\n",
        "## 6. What is the difference between import and from ... import in Python?\n",
        "* import module brings the whole module into the program, and we access functions like module.function(). from module import function imports just that specific function, so we can use it directly.\n",
        "\n",
        "## 7. How can you handle multiple exceptions in Python?\n",
        "* We can handle multiple exceptions by using multiple except blocks or by grouping exceptions in a tuple inside one except block. This helps in writing more robust error-handling code.\n",
        "\n",
        "## 8. What is the purpose of the with statement when handling files in Python?\n",
        "* The with statement is used to automatically manage resources. When used with files, it opens the file and ensures it gets closed properly, even if an error occurs during the file operations.\n",
        "\n",
        "## 9. What is the difference between multithreading and multiprocessing?\n",
        "* Multithreading allows multiple threads to run in the same memory space, which is great for I/O-bound tasks. Multiprocessing creates separate processes with their own memory, making it better for CPU-bound tasks.\n",
        "\n",
        "## 10. What are the advantages of using logging in a program?\n",
        "* Logging helps in tracking issues, debugging, and understanding the flow of the application. It’s better than using print statements because it offers levels like INFO, ERROR, and WARNING, and can be saved to files.\n",
        "\n",
        "## 11. What is memory management in Python?\n",
        "* Memory management in Python involves automatically allocating and releasing memory using a built-in garbage collector, which helps in managing memory more efficiently.\n",
        "\n",
        "## 12. What are the basic steps involved in exception handling in Python?\n",
        "* The basic steps include: writing the risky code inside a try block, catching errors in the except block, doing optional cleanup in finally, and running extra code in else if no exceptions occur.\n",
        "\n",
        "## 13. Why is memory management important in Python?\n",
        "* Good memory management ensures that programs don’t consume too much memory or crash. Python’s automatic garbage collector helps, but writing clean and efficient code is also necessary.\n",
        "\n",
        "## 14. What is the role of try and except in exception handling?\n",
        "* The try block contains code that might cause an error, while the except block defines how the program should respond to specific exceptions, preventing the program from crashing.\n",
        "\n",
        "## 15. How does Python's garbage collection system work?\n",
        "* Python uses reference counting and a cyclic garbage collector to automatically clean up unused objects from memory. It keeps track of object references and removes them when they’re no longer used.\n",
        "\n",
        "## 16. What is the purpose of the else block in exception handling?\n",
        "* The else block runs only if no exceptions occur in the try block. It’s useful for running code that should execute only when everything goes smoothly.\n",
        "\n",
        "## 17. What are the common logging levels in Python?\n",
        "* The common logging levels are: DEBUG, INFO, WARNING, ERROR, and CRITICAL. Each level shows the severity of the message, helping us control what to log based on importance.\n",
        "\n",
        "## 18. What is the difference between os.fork() and multiprocessing in Python?\n",
        "* os.fork() is specific to Unix and directly creates a new process. multiprocessing is cross-platform and provides a high-level API for creating and managing separate processes.\n",
        "\n",
        "## 19. What is the importance of closing a file in Python?\n",
        "* Closing a file releases the resources associated with it. If we don’t close it, we may run into memory leaks or file corruption, especially when dealing with large files.\n",
        "\n",
        "## 20. What is the difference between file.read() and file.readline() in Python?\n",
        "* file.read() reads the entire content of the file as a single string, while file.readline() reads just one line at a time, which is more memory efficient for large files.\n",
        "\n",
        "## 21. What is the logging module in Python used for?\n",
        "* The logging module provides flexible logging functionality, allowing us to track messages, errors, warnings, and debugging information during program execution.\n",
        "\n",
        "## 22. What is the os module in Python used for in file handling?\n",
        "* The os module helps in interacting with the operating system. In file handling, it’s used to check file existence, get file paths, delete or rename files, and create directories.\n",
        "\n",
        "## 23. What are the challenges associated with memory management in Python?\n",
        "* Some challenges include managing circular references, memory leaks from global variables, and understanding when objects are actually freed. Efficient coding practices help a lot here."
      ],
      "metadata": {
        "id": "tW37Do266OOn"
      }
    },
    {
      "cell_type": "markdown",
      "source": [
        "#**Practical Questions and Answers**"
      ],
      "metadata": {
        "id": "B9-vgcse7RC5"
      }
    },
    {
      "cell_type": "markdown",
      "source": [
        "## 1. How can you open a file for writing in Python and write a string to it?\n"
      ],
      "metadata": {
        "id": "x47Mjpq37Zwu"
      }
    },
    {
      "cell_type": "code",
      "source": [
        "with open(\"output.txt\", \"w\") as file:\n",
        "    file.write(\"Hello, this is a test message.\")"
      ],
      "metadata": {
        "id": "aWUkdbKk7T5e"
      },
      "execution_count": 1,
      "outputs": []
    },
    {
      "cell_type": "markdown",
      "source": [
        "## 2. Write a Python program to read the contents of a file and print each line."
      ],
      "metadata": {
        "id": "R3ehohzl77oL"
      }
    },
    {
      "cell_type": "code",
      "source": [
        "with open(\"output.txt\", \"r\") as file:\n",
        "    for line in file:\n",
        "        print(line.strip())"
      ],
      "metadata": {
        "colab": {
          "base_uri": "https://localhost:8080/"
        },
        "id": "vAA0MzdS8S74",
        "outputId": "125e1ff1-ae55-471c-93ee-93ed8b3d80b8"
      },
      "execution_count": 2,
      "outputs": [
        {
          "output_type": "stream",
          "name": "stdout",
          "text": [
            "Hello, this is a test message.\n"
          ]
        }
      ]
    },
    {
      "cell_type": "markdown",
      "source": [
        "## 3. How would you handle a case where the file doesn't exist while trying to open it for reading?"
      ],
      "metadata": {
        "id": "GiUJPkQt8Wmv"
      }
    },
    {
      "cell_type": "code",
      "source": [
        "try:\n",
        "    with open(\"nonexistent.txt\", \"r\") as file:\n",
        "        print(file.read())\n",
        "except FileNotFoundError:\n",
        "    print(\"File not found!\")"
      ],
      "metadata": {
        "colab": {
          "base_uri": "https://localhost:8080/"
        },
        "id": "k5k3AFaD8clC",
        "outputId": "8e15da14-d97c-489a-eacd-7807773bf1f6"
      },
      "execution_count": 3,
      "outputs": [
        {
          "output_type": "stream",
          "name": "stdout",
          "text": [
            "File not found!\n"
          ]
        }
      ]
    },
    {
      "cell_type": "markdown",
      "source": [
        "## 4. Write a Python script that reads from one file and writes its content to another file."
      ],
      "metadata": {
        "id": "GFsrZzGc8jlN"
      }
    },
    {
      "cell_type": "code",
      "source": [
        "with open(\"input.txt\", \"r\") as infile:\n",
        "    content = infile.read()\n",
        "\n",
        "with open(\"output_copy.txt\", \"w\") as outfile:\n",
        "    outfile.write(content)"
      ],
      "metadata": {
        "id": "VyBVkHgl9ISd"
      },
      "execution_count": null,
      "outputs": []
    },
    {
      "cell_type": "markdown",
      "source": [
        "## 5. How would you catch and handle division by zero error in Python?"
      ],
      "metadata": {
        "id": "haHq8YFW8saj"
      }
    },
    {
      "cell_type": "code",
      "source": [
        "try:\n",
        "    result = 10 / 0\n",
        "except ZeroDivisionError:\n",
        "    print(\"You can't divide by zero!\")"
      ],
      "metadata": {
        "id": "jzNPHs2d8ta6"
      },
      "execution_count": null,
      "outputs": []
    },
    {
      "cell_type": "markdown",
      "source": [
        "## 6. Write a Python program that logs an error message to a log file when a division by zero exception occurs.\n"
      ],
      "metadata": {
        "id": "w6_Sj_lF7nlo"
      }
    },
    {
      "cell_type": "code",
      "source": [
        "import logging\n",
        "\n",
        "logging.basicConfig(filename='error.log', level=logging.ERROR)\n",
        "\n",
        "try:\n",
        "    result = 10 / 0\n",
        "except ZeroDivisionError as e:\n",
        "    logging.error(\"Division by zero occurred: %s\", e)"
      ],
      "metadata": {
        "id": "m5UJtqYc-NyY"
      },
      "execution_count": null,
      "outputs": []
    },
    {
      "cell_type": "markdown",
      "source": [
        "## 7. How do you log information at different levels (INFO, ERROR, WARNING) in Python using the logging module?\n"
      ],
      "metadata": {
        "id": "R7s96Gwk9g3o"
      }
    },
    {
      "cell_type": "code",
      "source": [
        "import logging\n",
        "\n",
        "logging.basicConfig(level=logging.DEBUG)\n",
        "logging.info(\"This is an info message\")\n",
        "logging.warning(\"This is a warning message\")\n",
        "logging.error(\"This is an error message\")"
      ],
      "metadata": {
        "id": "qIUfQVWP-M1e"
      },
      "execution_count": null,
      "outputs": []
    },
    {
      "cell_type": "markdown",
      "source": [
        "## 8. Write a program to handle a file opening error using exception handling.\n"
      ],
      "metadata": {
        "id": "ioM0i4wo9jQg"
      }
    },
    {
      "cell_type": "code",
      "source": [
        "try:\n",
        "    with open(\"nonexistent_file.txt\", \"r\") as file:\n",
        "        content = file.read()\n",
        "except FileNotFoundError:\n",
        "    print(\"The file doesn't exist.\")"
      ],
      "metadata": {
        "id": "mEU58sKl-L-P"
      },
      "execution_count": null,
      "outputs": []
    },
    {
      "cell_type": "markdown",
      "source": [
        "## 9. How can you read a file line by line and store its content in a list in Python?\n"
      ],
      "metadata": {
        "id": "S7Jg5qjY9lb1"
      }
    },
    {
      "cell_type": "code",
      "source": [
        "with open(\"output.txt\", \"r\") as file:\n",
        "    lines = file.readlines()\n",
        "print(lines)"
      ],
      "metadata": {
        "id": "14Dbye2p-Lh4"
      },
      "execution_count": null,
      "outputs": []
    },
    {
      "cell_type": "markdown",
      "source": [
        "## 10. How can you append data to an existing file in Python?\n"
      ],
      "metadata": {
        "id": "QusJ1wAf9nm5"
      }
    },
    {
      "cell_type": "code",
      "source": [
        "with open(\"output.txt\", \"a\") as file:\n",
        "    file.write(\"\\nAppended line.\")"
      ],
      "metadata": {
        "id": "TzzWVdc7-LNC"
      },
      "execution_count": null,
      "outputs": []
    },
    {
      "cell_type": "markdown",
      "source": [
        "## 11. Write a Python program that uses a try-except block to handle an error when attempting to access a dictionary key that doesn't exist.\n"
      ],
      "metadata": {
        "id": "CRQ1GUgR9p1F"
      }
    },
    {
      "cell_type": "code",
      "source": [
        "data = {\"name\": \"John\"}\n",
        "try:\n",
        "    print(data[\"age\"])\n",
        "except KeyError:\n",
        "    print(\"Key not found in dictionary\")"
      ],
      "metadata": {
        "id": "dxVMJcRF-Kzi"
      },
      "execution_count": null,
      "outputs": []
    },
    {
      "cell_type": "markdown",
      "source": [
        "## 12. Write a program that demonstrates using multiple except blocks to handle different types of exceptions.\n"
      ],
      "metadata": {
        "id": "Yg4U5Yuz9tFr"
      }
    },
    {
      "cell_type": "code",
      "source": [
        "try:\n",
        "    a = int(\"hello\")\n",
        "except ValueError:\n",
        "    print(\"Invalid value\")\n",
        "except TypeError:\n",
        "    print(\"Type error occurred\")"
      ],
      "metadata": {
        "id": "hGKreiDB-J6M"
      },
      "execution_count": null,
      "outputs": []
    },
    {
      "cell_type": "markdown",
      "source": [
        "## 13. How would you check if a file exists before attempting to read it in Python?\n"
      ],
      "metadata": {
        "id": "y9Yuc3IV9u05"
      }
    },
    {
      "cell_type": "code",
      "source": [
        "import os\n",
        "\n",
        "if os.path.exists(\"output.txt\"):\n",
        "    with open(\"output.txt\", \"r\") as file:\n",
        "        print(file.read())\n",
        "else:\n",
        "    print(\"File does not exist\")"
      ],
      "metadata": {
        "id": "1U_HCgOM-JkD"
      },
      "execution_count": null,
      "outputs": []
    },
    {
      "cell_type": "markdown",
      "source": [
        "## 14. Write a program that uses the logging module to log both informational and error messages.\n"
      ],
      "metadata": {
        "id": "hILf_cab9wdT"
      }
    },
    {
      "cell_type": "code",
      "source": [
        "import logging\n",
        "\n",
        "logging.basicConfig(filename=\"app.log\", level=logging.DEBUG)\n",
        "logging.info(\"Program started\")\n",
        "try:\n",
        "    x = 1 / 0\n",
        "except ZeroDivisionError:\n",
        "    logging.error(\"Division by zero error\")"
      ],
      "metadata": {
        "id": "mPE2xFaM-JK0"
      },
      "execution_count": null,
      "outputs": []
    },
    {
      "cell_type": "markdown",
      "source": [
        "## 15. Write a Python program that prints the content of a file and handles the case when the file is empty.\n"
      ],
      "metadata": {
        "id": "bY3Twb0i91Sq"
      }
    },
    {
      "cell_type": "code",
      "source": [
        "with open(\"output.txt\", \"r\") as file:\n",
        "    content = file.read()\n",
        "    if content:\n",
        "        print(content)\n",
        "    else:\n",
        "        print(\"File is empty\")"
      ],
      "metadata": {
        "id": "aaqcR0XF-Isn"
      },
      "execution_count": null,
      "outputs": []
    },
    {
      "cell_type": "markdown",
      "source": [
        "## 16. Demonstrate how to use memory profiling to check the memory usage of a small program.\n"
      ],
      "metadata": {
        "id": "mW9PGEl093Hl"
      }
    },
    {
      "cell_type": "code",
      "source": [],
      "metadata": {
        "id": "bmnsoLx0-IV9"
      },
      "execution_count": null,
      "outputs": []
    },
    {
      "cell_type": "markdown",
      "source": [
        "## 17. Write a Python program to create and write a list of numbers to a file, one number per line.\n"
      ],
      "metadata": {
        "id": "Uu_gQOa095Kl"
      }
    },
    {
      "cell_type": "code",
      "source": [],
      "metadata": {
        "id": "zK6_iylR-H-h"
      },
      "execution_count": null,
      "outputs": []
    },
    {
      "cell_type": "markdown",
      "source": [
        "## 18. How would you implement a basic logging setup that logs to a file with rotation after IMB?\n"
      ],
      "metadata": {
        "id": "ZWD3XAaW97Fg"
      }
    },
    {
      "cell_type": "code",
      "source": [],
      "metadata": {
        "id": "FSWOJCA2-HmE"
      },
      "execution_count": null,
      "outputs": []
    },
    {
      "cell_type": "markdown",
      "source": [
        "## 19. Write a program that handles both IndexError and KeyError using a try-except block.\n"
      ],
      "metadata": {
        "id": "IjnH_PZU99LX"
      }
    },
    {
      "cell_type": "code",
      "source": [],
      "metadata": {
        "id": "FQ2bQqrJ-HLf"
      },
      "execution_count": null,
      "outputs": []
    },
    {
      "cell_type": "markdown",
      "source": [
        "## 20. How would you open a file and read its contents using a context manager in Python?\n"
      ],
      "metadata": {
        "id": "cs6KjnsQ9-5A"
      }
    },
    {
      "cell_type": "code",
      "source": [],
      "metadata": {
        "id": "VFNhdw4Q-G0T"
      },
      "execution_count": null,
      "outputs": []
    },
    {
      "cell_type": "markdown",
      "source": [
        "## 21. Write a Python program that reads a file and prints the number of occurrences of a specific word.\n"
      ],
      "metadata": {
        "id": "infEiAk1-And"
      }
    },
    {
      "cell_type": "code",
      "source": [],
      "metadata": {
        "id": "OHriet9P-Gd6"
      },
      "execution_count": null,
      "outputs": []
    },
    {
      "cell_type": "markdown",
      "source": [
        "## 22. How can you check if a file is empty before attempting to read its contents?\n"
      ],
      "metadata": {
        "id": "ndwwYO7E-CMd"
      }
    },
    {
      "cell_type": "code",
      "source": [],
      "metadata": {
        "id": "abQq-2Nd-FRE"
      },
      "execution_count": null,
      "outputs": []
    },
    {
      "cell_type": "markdown",
      "source": [
        "## 23. Write a Python program that writes to a log file when an error occurs during file handling."
      ],
      "metadata": {
        "id": "gf92e5_1-D4S"
      }
    },
    {
      "cell_type": "code",
      "source": [],
      "metadata": {
        "id": "Wkb77Dbs-E-E"
      },
      "execution_count": null,
      "outputs": []
    }
  ]
}